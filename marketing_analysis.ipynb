{
  "cells": [
    {
      "cell_type": "markdown",
      "id": "cf15a3d3",
      "metadata": {
        "id": "cf15a3d3"
      },
      "source": [
        "# Marketing analysis"
      ]
    },
    {
      "cell_type": "markdown",
      "id": "bc0069bc",
      "metadata": {
        "id": "bc0069bc"
      },
      "source": [
        "**The overall goal of this project:**\n",
        "\n",
        "As a marketing analyst, I need to analyze a data set to understand the problem of recent underperforming marketing campaigns and come up with data-driven solutions.\n",
        "\n",
        "To achieve the goal, the notebook was divided into three parts with more detailed questions in each.\n",
        "\n",
        "1. **Exploratory Data Analysis (EDA)**\n",
        "* Are there any null values or outliers? How to handle them?\n",
        "* Are there any columns that need to be transformed?\n",
        "* Are there any useful for further analysis variables that can be calculated?\n",
        "* Are there any patterns or anomalies in the data?\n",
        "\n",
        "2. **Statistical Analysis**\n",
        "\n",
        "In this part statistical tests will be run, findings will be interpret in non-statistical verse.\n",
        "\n",
        "* What factors are related to the number of store purchases?\n",
        "* Does US significantly better than the rest of the World by total purchases?\n",
        "* Supervisor insists that people who buy gold are more conservative. Therefore, people who spent an above average amount on gold in the last 2 years would have more in store purchases. Confirm or refute this statement using an appropriate statistical test\n",
        "* Fish has Omega 3 fatty acids which are good for the brain. Do \"Married PhD candidates\" have a significant relation with amount spent on fish? What other factors are significantly correlated to amount spent on fish?\n",
        "* Are there any significant correlations between geographical regions and success of campaigns?\n",
        "\n",
        "3. **Data Visualization**\n",
        "\n",
        "Each question will be answered in the form of plotting and/or visualizing.\n",
        "\n",
        "* Which marketing campaign is most successful?\n",
        "* What does the average client look like?\n",
        "* Which products are performing most effective?\n",
        "* Which channels are underperforming?"
      ]
    },
    {
      "cell_type": "markdown",
      "id": "564a22a0",
      "metadata": {
        "id": "564a22a0"
      },
      "source": [
        "Before beginning the analysis, the dataset was load, viewed and performed initial cleaning.\n",
        "\n",
        "View the dataset info:"
      ]
    },
    {
      "cell_type": "code",
      "execution_count": 6,
      "id": "c425bdbf",
      "metadata": {
        "colab": {
          "base_uri": "https://localhost:8080/"
        },
        "id": "c425bdbf",
        "outputId": "996c015d-0c1b-4d27-f3b5-93776bd5a672"
      },
      "outputs": [
        {
          "output_type": "stream",
          "name": "stdout",
          "text": [
            "Looking in indexes: https://pypi.org/simple, https://us-python.pkg.dev/colab-wheels/public/simple/\n",
            "Collecting eli5\n",
            "  Downloading eli5-0.13.0.tar.gz (216 kB)\n",
            "\u001b[2K     \u001b[90m━━━━━━━━━━━━━━━━━━━━━━━━━━━━━━━━━━━━━━━\u001b[0m \u001b[32m216.2/216.2 KB\u001b[0m \u001b[31m5.1 MB/s\u001b[0m eta \u001b[36m0:00:00\u001b[0m\n",
            "\u001b[?25h  Preparing metadata (setup.py) ... \u001b[?25l\u001b[?25hdone\n",
            "Requirement already satisfied: attrs>17.1.0 in /usr/local/lib/python3.8/dist-packages (from eli5) (22.2.0)\n",
            "Collecting jinja2>=3.0.0\n",
            "  Downloading Jinja2-3.1.2-py3-none-any.whl (133 kB)\n",
            "\u001b[2K     \u001b[90m━━━━━━━━━━━━━━━━━━━━━━━━━━━━━━━━━━━━━━\u001b[0m \u001b[32m133.1/133.1 KB\u001b[0m \u001b[31m12.4 MB/s\u001b[0m eta \u001b[36m0:00:00\u001b[0m\n",
            "\u001b[?25hRequirement already satisfied: numpy>=1.9.0 in /usr/local/lib/python3.8/dist-packages (from eli5) (1.22.4)\n",
            "Requirement already satisfied: scipy in /usr/local/lib/python3.8/dist-packages (from eli5) (1.7.3)\n",
            "Requirement already satisfied: six in /usr/local/lib/python3.8/dist-packages (from eli5) (1.15.0)\n",
            "Requirement already satisfied: scikit-learn>=0.20 in /usr/local/lib/python3.8/dist-packages (from eli5) (1.0.2)\n",
            "Requirement already satisfied: graphviz in /usr/local/lib/python3.8/dist-packages (from eli5) (0.10.1)\n",
            "Requirement already satisfied: tabulate>=0.7.7 in /usr/local/lib/python3.8/dist-packages (from eli5) (0.8.10)\n",
            "Requirement already satisfied: MarkupSafe>=2.0 in /usr/local/lib/python3.8/dist-packages (from jinja2>=3.0.0->eli5) (2.0.1)\n",
            "Requirement already satisfied: threadpoolctl>=2.0.0 in /usr/local/lib/python3.8/dist-packages (from scikit-learn>=0.20->eli5) (3.1.0)\n",
            "Requirement already satisfied: joblib>=0.11 in /usr/local/lib/python3.8/dist-packages (from scikit-learn>=0.20->eli5) (1.2.0)\n",
            "Building wheels for collected packages: eli5\n",
            "  Building wheel for eli5 (setup.py) ... \u001b[?25l\u001b[?25hdone\n",
            "  Created wheel for eli5: filename=eli5-0.13.0-py2.py3-none-any.whl size=107748 sha256=8a8fb05be295b1e7334a13a65e30bc3030698898ba8616fd778765c48e541d11\n",
            "  Stored in directory: /root/.cache/pip/wheels/85/ac/25/ffcd87ef8f9b1eec324fdf339359be71f22612459d8c75d89c\n",
            "Successfully built eli5\n",
            "Installing collected packages: jinja2, eli5\n",
            "  Attempting uninstall: jinja2\n",
            "    Found existing installation: Jinja2 2.11.3\n",
            "    Uninstalling Jinja2-2.11.3:\n",
            "      Successfully uninstalled Jinja2-2.11.3\n",
            "\u001b[31mERROR: pip's dependency resolver does not currently take into account all the packages that are installed. This behaviour is the source of the following dependency conflicts.\n",
            "flask 1.1.4 requires Jinja2<3.0,>=2.10.1, but you have jinja2 3.1.2 which is incompatible.\u001b[0m\u001b[31m\n",
            "\u001b[0mSuccessfully installed eli5-0.13.0 jinja2-3.1.2\n"
          ]
        }
      ],
      "source": [
        "pip install eli5"
      ]
    },
    {
      "cell_type": "code",
      "execution_count": 7,
      "id": "fb028917",
      "metadata": {
        "colab": {
          "base_uri": "https://localhost:8080/"
        },
        "id": "fb028917",
        "outputId": "d146e9f9-9f35-4bcf-9ad6-cb7583d47d92"
      },
      "outputs": [
        {
          "output_type": "stream",
          "name": "stdout",
          "text": [
            "Looking in indexes: https://pypi.org/simple, https://us-python.pkg.dev/colab-wheels/public/simple/\n",
            "Collecting shap\n",
            "  Downloading shap-0.41.0-cp38-cp38-manylinux_2_12_x86_64.manylinux2010_x86_64.whl (575 kB)\n",
            "\u001b[2K     \u001b[90m━━━━━━━━━━━━━━━━━━━━━━━━━━━━━━━━━━━━━━\u001b[0m \u001b[32m575.9/575.9 KB\u001b[0m \u001b[31m12.0 MB/s\u001b[0m eta \u001b[36m0:00:00\u001b[0m\n",
            "\u001b[?25hRequirement already satisfied: scikit-learn in /usr/local/lib/python3.8/dist-packages (from shap) (1.0.2)\n",
            "Requirement already satisfied: pandas in /usr/local/lib/python3.8/dist-packages (from shap) (1.3.5)\n",
            "Requirement already satisfied: packaging>20.9 in /usr/local/lib/python3.8/dist-packages (from shap) (23.0)\n",
            "Requirement already satisfied: scipy in /usr/local/lib/python3.8/dist-packages (from shap) (1.7.3)\n",
            "Requirement already satisfied: numba in /usr/local/lib/python3.8/dist-packages (from shap) (0.56.4)\n",
            "Requirement already satisfied: cloudpickle in /usr/local/lib/python3.8/dist-packages (from shap) (2.2.1)\n",
            "Requirement already satisfied: numpy in /usr/local/lib/python3.8/dist-packages (from shap) (1.22.4)\n",
            "Collecting slicer==0.0.7\n",
            "  Downloading slicer-0.0.7-py3-none-any.whl (14 kB)\n",
            "Requirement already satisfied: tqdm>4.25.0 in /usr/local/lib/python3.8/dist-packages (from shap) (4.64.1)\n",
            "Requirement already satisfied: setuptools in /usr/local/lib/python3.8/dist-packages (from numba->shap) (57.4.0)\n",
            "Requirement already satisfied: importlib-metadata in /usr/local/lib/python3.8/dist-packages (from numba->shap) (6.0.0)\n",
            "Requirement already satisfied: llvmlite<0.40,>=0.39.0dev0 in /usr/local/lib/python3.8/dist-packages (from numba->shap) (0.39.1)\n",
            "Requirement already satisfied: python-dateutil>=2.7.3 in /usr/local/lib/python3.8/dist-packages (from pandas->shap) (2.8.2)\n",
            "Requirement already satisfied: pytz>=2017.3 in /usr/local/lib/python3.8/dist-packages (from pandas->shap) (2022.7.1)\n",
            "Requirement already satisfied: joblib>=0.11 in /usr/local/lib/python3.8/dist-packages (from scikit-learn->shap) (1.2.0)\n",
            "Requirement already satisfied: threadpoolctl>=2.0.0 in /usr/local/lib/python3.8/dist-packages (from scikit-learn->shap) (3.1.0)\n",
            "Requirement already satisfied: six>=1.5 in /usr/local/lib/python3.8/dist-packages (from python-dateutil>=2.7.3->pandas->shap) (1.15.0)\n",
            "Requirement already satisfied: zipp>=0.5 in /usr/local/lib/python3.8/dist-packages (from importlib-metadata->numba->shap) (3.14.0)\n",
            "Installing collected packages: slicer, shap\n",
            "Successfully installed shap-0.41.0 slicer-0.0.7\n"
          ]
        }
      ],
      "source": [
        "pip install shap"
      ]
    },
    {
      "cell_type": "code",
      "execution_count": 8,
      "id": "14280ea2",
      "metadata": {
        "id": "14280ea2"
      },
      "outputs": [],
      "source": [
        "import pandas as pd\n",
        "import numpy as np\n",
        "import datetime as dt\n",
        "import matplotlib.pyplot as plt\n",
        "import seaborn as sns\n",
        "sns.set_palette('Paired')\n",
        "import plotly.express as px"
      ]
    },
    {
      "cell_type": "code",
      "execution_count": 9,
      "id": "8fcaf7d0",
      "metadata": {
        "colab": {
          "base_uri": "https://localhost:8080/",
          "height": 299
        },
        "id": "8fcaf7d0",
        "outputId": "2697a1ca-8214-40a0-b17f-04ee9d35fd3e"
      },
      "outputs": [
        {
          "output_type": "execute_result",
          "data": {
            "text/plain": [
              "      ID  Year_Birth   Education Marital_Status      Income   Kidhome  \\\n",
              "0   1826        1970  Graduation       Divorced  $84,835.00         0   \n",
              "1      1        1961  Graduation         Single  $57,091.00         0   \n",
              "2  10476        1958  Graduation        Married  $67,267.00         0   \n",
              "3   1386        1967  Graduation       Together  $32,474.00         1   \n",
              "4   5371        1989  Graduation         Single  $21,474.00         1   \n",
              "\n",
              "   Teenhome Dt_Customer  Recency  MntWines  ...  NumStorePurchases  \\\n",
              "0         0     6/16/14        0       189  ...                  6   \n",
              "1         0     6/15/14        0       464  ...                  7   \n",
              "2         1     5/13/14        0       134  ...                  5   \n",
              "3         1     5/11/14        0        10  ...                  2   \n",
              "4         0      4/8/14        0         6  ...                  2   \n",
              "\n",
              "   NumWebVisitsMonth  AcceptedCmp3  AcceptedCmp4  AcceptedCmp5  AcceptedCmp1  \\\n",
              "0                  1             0             0             0             0   \n",
              "1                  5             0             0             0             0   \n",
              "2                  2             0             0             0             0   \n",
              "3                  7             0             0             0             0   \n",
              "4                  7             1             0             0             0   \n",
              "\n",
              "   AcceptedCmp2  Response  Complain  Country  \n",
              "0             0         1         0       SP  \n",
              "1             1         1         0       CA  \n",
              "2             0         0         0       US  \n",
              "3             0         0         0      AUS  \n",
              "4             0         1         0       SP  \n",
              "\n",
              "[5 rows x 28 columns]"
            ],
            "text/html": [
              "\n",
              "  <div id=\"df-5dfbe85a-4823-4472-a152-b1f44c2360b4\">\n",
              "    <div class=\"colab-df-container\">\n",
              "      <div>\n",
              "<style scoped>\n",
              "    .dataframe tbody tr th:only-of-type {\n",
              "        vertical-align: middle;\n",
              "    }\n",
              "\n",
              "    .dataframe tbody tr th {\n",
              "        vertical-align: top;\n",
              "    }\n",
              "\n",
              "    .dataframe thead th {\n",
              "        text-align: right;\n",
              "    }\n",
              "</style>\n",
              "<table border=\"1\" class=\"dataframe\">\n",
              "  <thead>\n",
              "    <tr style=\"text-align: right;\">\n",
              "      <th></th>\n",
              "      <th>ID</th>\n",
              "      <th>Year_Birth</th>\n",
              "      <th>Education</th>\n",
              "      <th>Marital_Status</th>\n",
              "      <th>Income</th>\n",
              "      <th>Kidhome</th>\n",
              "      <th>Teenhome</th>\n",
              "      <th>Dt_Customer</th>\n",
              "      <th>Recency</th>\n",
              "      <th>MntWines</th>\n",
              "      <th>...</th>\n",
              "      <th>NumStorePurchases</th>\n",
              "      <th>NumWebVisitsMonth</th>\n",
              "      <th>AcceptedCmp3</th>\n",
              "      <th>AcceptedCmp4</th>\n",
              "      <th>AcceptedCmp5</th>\n",
              "      <th>AcceptedCmp1</th>\n",
              "      <th>AcceptedCmp2</th>\n",
              "      <th>Response</th>\n",
              "      <th>Complain</th>\n",
              "      <th>Country</th>\n",
              "    </tr>\n",
              "  </thead>\n",
              "  <tbody>\n",
              "    <tr>\n",
              "      <th>0</th>\n",
              "      <td>1826</td>\n",
              "      <td>1970</td>\n",
              "      <td>Graduation</td>\n",
              "      <td>Divorced</td>\n",
              "      <td>$84,835.00</td>\n",
              "      <td>0</td>\n",
              "      <td>0</td>\n",
              "      <td>6/16/14</td>\n",
              "      <td>0</td>\n",
              "      <td>189</td>\n",
              "      <td>...</td>\n",
              "      <td>6</td>\n",
              "      <td>1</td>\n",
              "      <td>0</td>\n",
              "      <td>0</td>\n",
              "      <td>0</td>\n",
              "      <td>0</td>\n",
              "      <td>0</td>\n",
              "      <td>1</td>\n",
              "      <td>0</td>\n",
              "      <td>SP</td>\n",
              "    </tr>\n",
              "    <tr>\n",
              "      <th>1</th>\n",
              "      <td>1</td>\n",
              "      <td>1961</td>\n",
              "      <td>Graduation</td>\n",
              "      <td>Single</td>\n",
              "      <td>$57,091.00</td>\n",
              "      <td>0</td>\n",
              "      <td>0</td>\n",
              "      <td>6/15/14</td>\n",
              "      <td>0</td>\n",
              "      <td>464</td>\n",
              "      <td>...</td>\n",
              "      <td>7</td>\n",
              "      <td>5</td>\n",
              "      <td>0</td>\n",
              "      <td>0</td>\n",
              "      <td>0</td>\n",
              "      <td>0</td>\n",
              "      <td>1</td>\n",
              "      <td>1</td>\n",
              "      <td>0</td>\n",
              "      <td>CA</td>\n",
              "    </tr>\n",
              "    <tr>\n",
              "      <th>2</th>\n",
              "      <td>10476</td>\n",
              "      <td>1958</td>\n",
              "      <td>Graduation</td>\n",
              "      <td>Married</td>\n",
              "      <td>$67,267.00</td>\n",
              "      <td>0</td>\n",
              "      <td>1</td>\n",
              "      <td>5/13/14</td>\n",
              "      <td>0</td>\n",
              "      <td>134</td>\n",
              "      <td>...</td>\n",
              "      <td>5</td>\n",
              "      <td>2</td>\n",
              "      <td>0</td>\n",
              "      <td>0</td>\n",
              "      <td>0</td>\n",
              "      <td>0</td>\n",
              "      <td>0</td>\n",
              "      <td>0</td>\n",
              "      <td>0</td>\n",
              "      <td>US</td>\n",
              "    </tr>\n",
              "    <tr>\n",
              "      <th>3</th>\n",
              "      <td>1386</td>\n",
              "      <td>1967</td>\n",
              "      <td>Graduation</td>\n",
              "      <td>Together</td>\n",
              "      <td>$32,474.00</td>\n",
              "      <td>1</td>\n",
              "      <td>1</td>\n",
              "      <td>5/11/14</td>\n",
              "      <td>0</td>\n",
              "      <td>10</td>\n",
              "      <td>...</td>\n",
              "      <td>2</td>\n",
              "      <td>7</td>\n",
              "      <td>0</td>\n",
              "      <td>0</td>\n",
              "      <td>0</td>\n",
              "      <td>0</td>\n",
              "      <td>0</td>\n",
              "      <td>0</td>\n",
              "      <td>0</td>\n",
              "      <td>AUS</td>\n",
              "    </tr>\n",
              "    <tr>\n",
              "      <th>4</th>\n",
              "      <td>5371</td>\n",
              "      <td>1989</td>\n",
              "      <td>Graduation</td>\n",
              "      <td>Single</td>\n",
              "      <td>$21,474.00</td>\n",
              "      <td>1</td>\n",
              "      <td>0</td>\n",
              "      <td>4/8/14</td>\n",
              "      <td>0</td>\n",
              "      <td>6</td>\n",
              "      <td>...</td>\n",
              "      <td>2</td>\n",
              "      <td>7</td>\n",
              "      <td>1</td>\n",
              "      <td>0</td>\n",
              "      <td>0</td>\n",
              "      <td>0</td>\n",
              "      <td>0</td>\n",
              "      <td>1</td>\n",
              "      <td>0</td>\n",
              "      <td>SP</td>\n",
              "    </tr>\n",
              "  </tbody>\n",
              "</table>\n",
              "<p>5 rows × 28 columns</p>\n",
              "</div>\n",
              "      <button class=\"colab-df-convert\" onclick=\"convertToInteractive('df-5dfbe85a-4823-4472-a152-b1f44c2360b4')\"\n",
              "              title=\"Convert this dataframe to an interactive table.\"\n",
              "              style=\"display:none;\">\n",
              "        \n",
              "  <svg xmlns=\"http://www.w3.org/2000/svg\" height=\"24px\"viewBox=\"0 0 24 24\"\n",
              "       width=\"24px\">\n",
              "    <path d=\"M0 0h24v24H0V0z\" fill=\"none\"/>\n",
              "    <path d=\"M18.56 5.44l.94 2.06.94-2.06 2.06-.94-2.06-.94-.94-2.06-.94 2.06-2.06.94zm-11 1L8.5 8.5l.94-2.06 2.06-.94-2.06-.94L8.5 2.5l-.94 2.06-2.06.94zm10 10l.94 2.06.94-2.06 2.06-.94-2.06-.94-.94-2.06-.94 2.06-2.06.94z\"/><path d=\"M17.41 7.96l-1.37-1.37c-.4-.4-.92-.59-1.43-.59-.52 0-1.04.2-1.43.59L10.3 9.45l-7.72 7.72c-.78.78-.78 2.05 0 2.83L4 21.41c.39.39.9.59 1.41.59.51 0 1.02-.2 1.41-.59l7.78-7.78 2.81-2.81c.8-.78.8-2.07 0-2.86zM5.41 20L4 18.59l7.72-7.72 1.47 1.35L5.41 20z\"/>\n",
              "  </svg>\n",
              "      </button>\n",
              "      \n",
              "  <style>\n",
              "    .colab-df-container {\n",
              "      display:flex;\n",
              "      flex-wrap:wrap;\n",
              "      gap: 12px;\n",
              "    }\n",
              "\n",
              "    .colab-df-convert {\n",
              "      background-color: #E8F0FE;\n",
              "      border: none;\n",
              "      border-radius: 50%;\n",
              "      cursor: pointer;\n",
              "      display: none;\n",
              "      fill: #1967D2;\n",
              "      height: 32px;\n",
              "      padding: 0 0 0 0;\n",
              "      width: 32px;\n",
              "    }\n",
              "\n",
              "    .colab-df-convert:hover {\n",
              "      background-color: #E2EBFA;\n",
              "      box-shadow: 0px 1px 2px rgba(60, 64, 67, 0.3), 0px 1px 3px 1px rgba(60, 64, 67, 0.15);\n",
              "      fill: #174EA6;\n",
              "    }\n",
              "\n",
              "    [theme=dark] .colab-df-convert {\n",
              "      background-color: #3B4455;\n",
              "      fill: #D2E3FC;\n",
              "    }\n",
              "\n",
              "    [theme=dark] .colab-df-convert:hover {\n",
              "      background-color: #434B5C;\n",
              "      box-shadow: 0px 1px 3px 1px rgba(0, 0, 0, 0.15);\n",
              "      filter: drop-shadow(0px 1px 2px rgba(0, 0, 0, 0.3));\n",
              "      fill: #FFFFFF;\n",
              "    }\n",
              "  </style>\n",
              "\n",
              "      <script>\n",
              "        const buttonEl =\n",
              "          document.querySelector('#df-5dfbe85a-4823-4472-a152-b1f44c2360b4 button.colab-df-convert');\n",
              "        buttonEl.style.display =\n",
              "          google.colab.kernel.accessAllowed ? 'block' : 'none';\n",
              "\n",
              "        async function convertToInteractive(key) {\n",
              "          const element = document.querySelector('#df-5dfbe85a-4823-4472-a152-b1f44c2360b4');\n",
              "          const dataTable =\n",
              "            await google.colab.kernel.invokeFunction('convertToInteractive',\n",
              "                                                     [key], {});\n",
              "          if (!dataTable) return;\n",
              "\n",
              "          const docLinkHtml = 'Like what you see? Visit the ' +\n",
              "            '<a target=\"_blank\" href=https://colab.research.google.com/notebooks/data_table.ipynb>data table notebook</a>'\n",
              "            + ' to learn more about interactive tables.';\n",
              "          element.innerHTML = '';\n",
              "          dataTable['output_type'] = 'display_data';\n",
              "          await google.colab.output.renderOutput(dataTable, element);\n",
              "          const docLink = document.createElement('div');\n",
              "          docLink.innerHTML = docLinkHtml;\n",
              "          element.appendChild(docLink);\n",
              "        }\n",
              "      </script>\n",
              "    </div>\n",
              "  </div>\n",
              "  "
            ]
          },
          "metadata": {},
          "execution_count": 9
        }
      ],
      "source": [
        "df = pd.read_csv('marketing_data.csv')\n",
        "df.head()"
      ]
    },
    {
      "cell_type": "code",
      "execution_count": 10,
      "id": "fab81586",
      "metadata": {
        "colab": {
          "base_uri": "https://localhost:8080/"
        },
        "id": "fab81586",
        "outputId": "1807c5a8-7257-4448-d9f5-838226d1c748"
      },
      "outputs": [
        {
          "output_type": "stream",
          "name": "stdout",
          "text": [
            "<class 'pandas.core.frame.DataFrame'>\n",
            "RangeIndex: 2240 entries, 0 to 2239\n",
            "Data columns (total 28 columns):\n",
            " #   Column               Non-Null Count  Dtype \n",
            "---  ------               --------------  ----- \n",
            " 0   ID                   2240 non-null   int64 \n",
            " 1   Year_Birth           2240 non-null   int64 \n",
            " 2   Education            2240 non-null   object\n",
            " 3   Marital_Status       2240 non-null   object\n",
            " 4    Income              2216 non-null   object\n",
            " 5   Kidhome              2240 non-null   int64 \n",
            " 6   Teenhome             2240 non-null   int64 \n",
            " 7   Dt_Customer          2240 non-null   object\n",
            " 8   Recency              2240 non-null   int64 \n",
            " 9   MntWines             2240 non-null   int64 \n",
            " 10  MntFruits            2240 non-null   int64 \n",
            " 11  MntMeatProducts      2240 non-null   int64 \n",
            " 12  MntFishProducts      2240 non-null   int64 \n",
            " 13  MntSweetProducts     2240 non-null   int64 \n",
            " 14  MntGoldProds         2240 non-null   int64 \n",
            " 15  NumDealsPurchases    2240 non-null   int64 \n",
            " 16  NumWebPurchases      2240 non-null   int64 \n",
            " 17  NumCatalogPurchases  2240 non-null   int64 \n",
            " 18  NumStorePurchases    2240 non-null   int64 \n",
            " 19  NumWebVisitsMonth    2240 non-null   int64 \n",
            " 20  AcceptedCmp3         2240 non-null   int64 \n",
            " 21  AcceptedCmp4         2240 non-null   int64 \n",
            " 22  AcceptedCmp5         2240 non-null   int64 \n",
            " 23  AcceptedCmp1         2240 non-null   int64 \n",
            " 24  AcceptedCmp2         2240 non-null   int64 \n",
            " 25  Response             2240 non-null   int64 \n",
            " 26  Complain             2240 non-null   int64 \n",
            " 27  Country              2240 non-null   object\n",
            "dtypes: int64(23), object(5)\n",
            "memory usage: 490.1+ KB\n"
          ]
        }
      ],
      "source": [
        "df.info()"
      ]
    },
    {
      "cell_type": "code",
      "execution_count": 11,
      "id": "73f8643d",
      "metadata": {
        "colab": {
          "base_uri": "https://localhost:8080/"
        },
        "id": "73f8643d",
        "outputId": "df0bb5fb-7649-4eef-9793-c0816f148e8d"
      },
      "outputs": [
        {
          "output_type": "execute_result",
          "data": {
            "text/plain": [
              "(2240, 28)"
            ]
          },
          "metadata": {},
          "execution_count": 11
        }
      ],
      "source": [
        "df.shape"
      ]
    },
    {
      "cell_type": "code",
      "execution_count": 12,
      "id": "60705c41",
      "metadata": {
        "id": "60705c41"
      },
      "outputs": [],
      "source": [
        "# clean up column names that contain whitespace and lowercase all of them\n",
        "list_of_columns = list(df.columns.str.replace(' ', ''))\n",
        "df.columns = list(map(lambda x: x.lower(), list_of_columns))\n",
        "\n",
        "# transform Income column to a float\n",
        "df['income'] = df['income'].str.replace('$', '', regex=False)\n",
        "df['income'] = df['income'].str.replace(',', '', regex=False).astype('float')"
      ]
    },
    {
      "cell_type": "code",
      "execution_count": 13,
      "id": "28ecb17d",
      "metadata": {
        "colab": {
          "base_uri": "https://localhost:8080/",
          "height": 299
        },
        "id": "28ecb17d",
        "outputId": "dfefde38-a568-45d8-c9e4-8b283fa65120"
      },
      "outputs": [
        {
          "output_type": "execute_result",
          "data": {
            "text/plain": [
              "      id  year_birth   education marital_status   income  kidhome  teenhome  \\\n",
              "0   1826        1970  Graduation       Divorced  84835.0        0         0   \n",
              "1      1        1961  Graduation         Single  57091.0        0         0   \n",
              "2  10476        1958  Graduation        Married  67267.0        0         1   \n",
              "3   1386        1967  Graduation       Together  32474.0        1         1   \n",
              "4   5371        1989  Graduation         Single  21474.0        1         0   \n",
              "\n",
              "  dt_customer  recency  mntwines  ...  numstorepurchases  numwebvisitsmonth  \\\n",
              "0     6/16/14        0       189  ...                  6                  1   \n",
              "1     6/15/14        0       464  ...                  7                  5   \n",
              "2     5/13/14        0       134  ...                  5                  2   \n",
              "3     5/11/14        0        10  ...                  2                  7   \n",
              "4      4/8/14        0         6  ...                  2                  7   \n",
              "\n",
              "   acceptedcmp3  acceptedcmp4  acceptedcmp5  acceptedcmp1  acceptedcmp2  \\\n",
              "0             0             0             0             0             0   \n",
              "1             0             0             0             0             1   \n",
              "2             0             0             0             0             0   \n",
              "3             0             0             0             0             0   \n",
              "4             1             0             0             0             0   \n",
              "\n",
              "   response  complain  country  \n",
              "0         1         0       SP  \n",
              "1         1         0       CA  \n",
              "2         0         0       US  \n",
              "3         0         0      AUS  \n",
              "4         1         0       SP  \n",
              "\n",
              "[5 rows x 28 columns]"
            ],
            "text/html": [
              "\n",
              "  <div id=\"df-dcb09256-6d18-479e-8ba2-4aaa74c8060d\">\n",
              "    <div class=\"colab-df-container\">\n",
              "      <div>\n",
              "<style scoped>\n",
              "    .dataframe tbody tr th:only-of-type {\n",
              "        vertical-align: middle;\n",
              "    }\n",
              "\n",
              "    .dataframe tbody tr th {\n",
              "        vertical-align: top;\n",
              "    }\n",
              "\n",
              "    .dataframe thead th {\n",
              "        text-align: right;\n",
              "    }\n",
              "</style>\n",
              "<table border=\"1\" class=\"dataframe\">\n",
              "  <thead>\n",
              "    <tr style=\"text-align: right;\">\n",
              "      <th></th>\n",
              "      <th>id</th>\n",
              "      <th>year_birth</th>\n",
              "      <th>education</th>\n",
              "      <th>marital_status</th>\n",
              "      <th>income</th>\n",
              "      <th>kidhome</th>\n",
              "      <th>teenhome</th>\n",
              "      <th>dt_customer</th>\n",
              "      <th>recency</th>\n",
              "      <th>mntwines</th>\n",
              "      <th>...</th>\n",
              "      <th>numstorepurchases</th>\n",
              "      <th>numwebvisitsmonth</th>\n",
              "      <th>acceptedcmp3</th>\n",
              "      <th>acceptedcmp4</th>\n",
              "      <th>acceptedcmp5</th>\n",
              "      <th>acceptedcmp1</th>\n",
              "      <th>acceptedcmp2</th>\n",
              "      <th>response</th>\n",
              "      <th>complain</th>\n",
              "      <th>country</th>\n",
              "    </tr>\n",
              "  </thead>\n",
              "  <tbody>\n",
              "    <tr>\n",
              "      <th>0</th>\n",
              "      <td>1826</td>\n",
              "      <td>1970</td>\n",
              "      <td>Graduation</td>\n",
              "      <td>Divorced</td>\n",
              "      <td>84835.0</td>\n",
              "      <td>0</td>\n",
              "      <td>0</td>\n",
              "      <td>6/16/14</td>\n",
              "      <td>0</td>\n",
              "      <td>189</td>\n",
              "      <td>...</td>\n",
              "      <td>6</td>\n",
              "      <td>1</td>\n",
              "      <td>0</td>\n",
              "      <td>0</td>\n",
              "      <td>0</td>\n",
              "      <td>0</td>\n",
              "      <td>0</td>\n",
              "      <td>1</td>\n",
              "      <td>0</td>\n",
              "      <td>SP</td>\n",
              "    </tr>\n",
              "    <tr>\n",
              "      <th>1</th>\n",
              "      <td>1</td>\n",
              "      <td>1961</td>\n",
              "      <td>Graduation</td>\n",
              "      <td>Single</td>\n",
              "      <td>57091.0</td>\n",
              "      <td>0</td>\n",
              "      <td>0</td>\n",
              "      <td>6/15/14</td>\n",
              "      <td>0</td>\n",
              "      <td>464</td>\n",
              "      <td>...</td>\n",
              "      <td>7</td>\n",
              "      <td>5</td>\n",
              "      <td>0</td>\n",
              "      <td>0</td>\n",
              "      <td>0</td>\n",
              "      <td>0</td>\n",
              "      <td>1</td>\n",
              "      <td>1</td>\n",
              "      <td>0</td>\n",
              "      <td>CA</td>\n",
              "    </tr>\n",
              "    <tr>\n",
              "      <th>2</th>\n",
              "      <td>10476</td>\n",
              "      <td>1958</td>\n",
              "      <td>Graduation</td>\n",
              "      <td>Married</td>\n",
              "      <td>67267.0</td>\n",
              "      <td>0</td>\n",
              "      <td>1</td>\n",
              "      <td>5/13/14</td>\n",
              "      <td>0</td>\n",
              "      <td>134</td>\n",
              "      <td>...</td>\n",
              "      <td>5</td>\n",
              "      <td>2</td>\n",
              "      <td>0</td>\n",
              "      <td>0</td>\n",
              "      <td>0</td>\n",
              "      <td>0</td>\n",
              "      <td>0</td>\n",
              "      <td>0</td>\n",
              "      <td>0</td>\n",
              "      <td>US</td>\n",
              "    </tr>\n",
              "    <tr>\n",
              "      <th>3</th>\n",
              "      <td>1386</td>\n",
              "      <td>1967</td>\n",
              "      <td>Graduation</td>\n",
              "      <td>Together</td>\n",
              "      <td>32474.0</td>\n",
              "      <td>1</td>\n",
              "      <td>1</td>\n",
              "      <td>5/11/14</td>\n",
              "      <td>0</td>\n",
              "      <td>10</td>\n",
              "      <td>...</td>\n",
              "      <td>2</td>\n",
              "      <td>7</td>\n",
              "      <td>0</td>\n",
              "      <td>0</td>\n",
              "      <td>0</td>\n",
              "      <td>0</td>\n",
              "      <td>0</td>\n",
              "      <td>0</td>\n",
              "      <td>0</td>\n",
              "      <td>AUS</td>\n",
              "    </tr>\n",
              "    <tr>\n",
              "      <th>4</th>\n",
              "      <td>5371</td>\n",
              "      <td>1989</td>\n",
              "      <td>Graduation</td>\n",
              "      <td>Single</td>\n",
              "      <td>21474.0</td>\n",
              "      <td>1</td>\n",
              "      <td>0</td>\n",
              "      <td>4/8/14</td>\n",
              "      <td>0</td>\n",
              "      <td>6</td>\n",
              "      <td>...</td>\n",
              "      <td>2</td>\n",
              "      <td>7</td>\n",
              "      <td>1</td>\n",
              "      <td>0</td>\n",
              "      <td>0</td>\n",
              "      <td>0</td>\n",
              "      <td>0</td>\n",
              "      <td>1</td>\n",
              "      <td>0</td>\n",
              "      <td>SP</td>\n",
              "    </tr>\n",
              "  </tbody>\n",
              "</table>\n",
              "<p>5 rows × 28 columns</p>\n",
              "</div>\n",
              "      <button class=\"colab-df-convert\" onclick=\"convertToInteractive('df-dcb09256-6d18-479e-8ba2-4aaa74c8060d')\"\n",
              "              title=\"Convert this dataframe to an interactive table.\"\n",
              "              style=\"display:none;\">\n",
              "        \n",
              "  <svg xmlns=\"http://www.w3.org/2000/svg\" height=\"24px\"viewBox=\"0 0 24 24\"\n",
              "       width=\"24px\">\n",
              "    <path d=\"M0 0h24v24H0V0z\" fill=\"none\"/>\n",
              "    <path d=\"M18.56 5.44l.94 2.06.94-2.06 2.06-.94-2.06-.94-.94-2.06-.94 2.06-2.06.94zm-11 1L8.5 8.5l.94-2.06 2.06-.94-2.06-.94L8.5 2.5l-.94 2.06-2.06.94zm10 10l.94 2.06.94-2.06 2.06-.94-2.06-.94-.94-2.06-.94 2.06-2.06.94z\"/><path d=\"M17.41 7.96l-1.37-1.37c-.4-.4-.92-.59-1.43-.59-.52 0-1.04.2-1.43.59L10.3 9.45l-7.72 7.72c-.78.78-.78 2.05 0 2.83L4 21.41c.39.39.9.59 1.41.59.51 0 1.02-.2 1.41-.59l7.78-7.78 2.81-2.81c.8-.78.8-2.07 0-2.86zM5.41 20L4 18.59l7.72-7.72 1.47 1.35L5.41 20z\"/>\n",
              "  </svg>\n",
              "      </button>\n",
              "      \n",
              "  <style>\n",
              "    .colab-df-container {\n",
              "      display:flex;\n",
              "      flex-wrap:wrap;\n",
              "      gap: 12px;\n",
              "    }\n",
              "\n",
              "    .colab-df-convert {\n",
              "      background-color: #E8F0FE;\n",
              "      border: none;\n",
              "      border-radius: 50%;\n",
              "      cursor: pointer;\n",
              "      display: none;\n",
              "      fill: #1967D2;\n",
              "      height: 32px;\n",
              "      padding: 0 0 0 0;\n",
              "      width: 32px;\n",
              "    }\n",
              "\n",
              "    .colab-df-convert:hover {\n",
              "      background-color: #E2EBFA;\n",
              "      box-shadow: 0px 1px 2px rgba(60, 64, 67, 0.3), 0px 1px 3px 1px rgba(60, 64, 67, 0.15);\n",
              "      fill: #174EA6;\n",
              "    }\n",
              "\n",
              "    [theme=dark] .colab-df-convert {\n",
              "      background-color: #3B4455;\n",
              "      fill: #D2E3FC;\n",
              "    }\n",
              "\n",
              "    [theme=dark] .colab-df-convert:hover {\n",
              "      background-color: #434B5C;\n",
              "      box-shadow: 0px 1px 3px 1px rgba(0, 0, 0, 0.15);\n",
              "      filter: drop-shadow(0px 1px 2px rgba(0, 0, 0, 0.3));\n",
              "      fill: #FFFFFF;\n",
              "    }\n",
              "  </style>\n",
              "\n",
              "      <script>\n",
              "        const buttonEl =\n",
              "          document.querySelector('#df-dcb09256-6d18-479e-8ba2-4aaa74c8060d button.colab-df-convert');\n",
              "        buttonEl.style.display =\n",
              "          google.colab.kernel.accessAllowed ? 'block' : 'none';\n",
              "\n",
              "        async function convertToInteractive(key) {\n",
              "          const element = document.querySelector('#df-dcb09256-6d18-479e-8ba2-4aaa74c8060d');\n",
              "          const dataTable =\n",
              "            await google.colab.kernel.invokeFunction('convertToInteractive',\n",
              "                                                     [key], {});\n",
              "          if (!dataTable) return;\n",
              "\n",
              "          const docLinkHtml = 'Like what you see? Visit the ' +\n",
              "            '<a target=\"_blank\" href=https://colab.research.google.com/notebooks/data_table.ipynb>data table notebook</a>'\n",
              "            + ' to learn more about interactive tables.';\n",
              "          element.innerHTML = '';\n",
              "          dataTable['output_type'] = 'display_data';\n",
              "          await google.colab.output.renderOutput(dataTable, element);\n",
              "          const docLink = document.createElement('div');\n",
              "          docLink.innerHTML = docLinkHtml;\n",
              "          element.appendChild(docLink);\n",
              "        }\n",
              "      </script>\n",
              "    </div>\n",
              "  </div>\n",
              "  "
            ]
          },
          "metadata": {},
          "execution_count": 13
        }
      ],
      "source": [
        "df.head()"
      ]
    },
    {
      "cell_type": "markdown",
      "id": "7c7bd410",
      "metadata": {
        "id": "7c7bd410"
      },
      "source": [
        "## Exploratory Data Analysis (EDA)"
      ]
    },
    {
      "cell_type": "markdown",
      "id": "4594efd1",
      "metadata": {
        "id": "4594efd1"
      },
      "source": [
        "### Are there any null values or outliers? How to handle them?"
      ]
    },
    {
      "cell_type": "code",
      "execution_count": 14,
      "id": "5bc66ee6",
      "metadata": {
        "colab": {
          "base_uri": "https://localhost:8080/"
        },
        "id": "5bc66ee6",
        "outputId": "de82d059-8ecb-4969-e5b9-d2eb67e178f0"
      },
      "outputs": [
        {
          "output_type": "execute_result",
          "data": {
            "text/plain": [
              "income                 24\n",
              "id                      0\n",
              "numdealspurchases       0\n",
              "complain                0\n",
              "response                0\n",
              "acceptedcmp2            0\n",
              "acceptedcmp1            0\n",
              "acceptedcmp5            0\n",
              "acceptedcmp4            0\n",
              "acceptedcmp3            0\n",
              "numwebvisitsmonth       0\n",
              "numstorepurchases       0\n",
              "numcatalogpurchases     0\n",
              "numwebpurchases         0\n",
              "mntgoldprods            0\n",
              "year_birth              0\n",
              "mntsweetproducts        0\n",
              "mntfishproducts         0\n",
              "mntmeatproducts         0\n",
              "mntfruits               0\n",
              "mntwines                0\n",
              "recency                 0\n",
              "dt_customer             0\n",
              "teenhome                0\n",
              "kidhome                 0\n",
              "marital_status          0\n",
              "education               0\n",
              "country                 0\n",
              "dtype: int64"
            ]
          },
          "metadata": {},
          "execution_count": 14
        }
      ],
      "source": [
        "df.isnull().sum().sort_values(ascending=False)"
      ]
    },
    {
      "cell_type": "markdown",
      "id": "fd0e7434",
      "metadata": {
        "id": "fd0e7434"
      },
      "source": [
        "`income` contains 24 null values. Let's plot this column.\n",
        "\n",
        "* Most incomes are distributed between `$0`-`$100,000`, with a few outliers\n",
        "* As a solution, null values will be replaced with median value, to avoid effects of outliers."
      ]
    },
    {
      "cell_type": "code",
      "execution_count": 15,
      "id": "119a4215",
      "metadata": {
        "colab": {
          "base_uri": "https://localhost:8080/",
          "height": 315
        },
        "id": "119a4215",
        "outputId": "5b794aa3-1aeb-47a8-b907-7b2e4a5d9f90"
      },
      "outputs": [
        {
          "output_type": "execute_result",
          "data": {
            "text/plain": [
              "Text(0, 0.5, 'count')"
            ]
          },
          "metadata": {},
          "execution_count": 15
        },
        {
          "output_type": "display_data",
          "data": {
            "text/plain": [
              "<Figure size 576x288 with 1 Axes>"
            ],
            "image/png": "[encoded data removed]"
          },
          "metadata": {
            "needs_background": "light"
          }
        }
      ],
      "source": [
        "plt.figure(figsize=(8,4))\n",
        "sns.histplot(df['income'])\n",
        "plt.title('Income distribution', size=16)\n",
        "plt.ylabel('count')"
      ]
    },
    {
      "cell_type": "code",
      "execution_count": 16,
      "id": "3af02b7e",
      "metadata": {
        "colab": {
          "base_uri": "https://localhost:8080/",
          "height": 320
        },
        "id": "3af02b7e",
        "outputId": "79afa24a-8548-4373-f7ea-228f292b6c42"
      },
      "outputs": [
        {
          "output_type": "display_data",
          "data": {
            "text/plain": [
              "<Figure size 216x360 with 1 Axes>"
            ],
            "image/png": "[encoded data removed]"
          },
          "metadata": {
            "needs_background": "light"
          }
        }
      ],
      "source": [
        "df['income'].plot(kind='box', figsize=(3,5), patch_artist=True)\n",
        "plt.show()"
      ]
    },
    {
      "cell_type": "code",
      "execution_count": 17,
      "id": "229b9d31",
      "metadata": {
        "id": "229b9d31"
      },
      "outputs": [],
      "source": [
        "df['income'] = df['income'].fillna(df['income'].median())"
      ]
    },
    {
      "cell_type": "markdown",
      "id": "e5fd310b",
      "metadata": {
        "id": "e5fd310b"
      },
      "source": [
        "Multiple features contain outliers, in the `year_birth` values that are more less than 1900 will be removed"
      ]
    },
    {
      "cell_type": "code",
      "execution_count": 18,
      "id": "d1cabe83",
      "metadata": {
        "colab": {
          "base_uri": "https://localhost:8080/",
          "height": 811
        },
        "id": "d1cabe83",
        "outputId": "3b7ec8c3-9446-4674-d105-f9008a78b3a9"
      },
      "outputs": [
        {
          "output_type": "display_data",
          "data": {
            "text/plain": [
              "<Figure size 864x1008 with 16 Axes>"
            ],
            "image/png": "[encoded data removed]"
          },
          "metadata": {
            "needs_background": "light"
          }
        }
      ],
      "source": [
        "dfs_to_plot = df.drop(columns=['id', 'acceptedcmp1', 'acceptedcmp2', 'acceptedcmp3', 'acceptedcmp4', \n",
        "                               'acceptedcmp5', 'response', 'complain']).select_dtypes(include=np.number)\n",
        "\n",
        "dfs_to_plot.plot(subplots=True, layout=(4,4), kind='box', figsize=(12,14), patch_artist=True)\n",
        "plt.subplots_adjust(wspace=0.5)\n",
        "plt.show()"
      ]
    },
    {
      "cell_type": "code",
      "execution_count": 19,
      "id": "aabaa994",
      "metadata": {
        "colab": {
          "base_uri": "https://localhost:8080/",
          "height": 266
        },
        "id": "aabaa994",
        "outputId": "25913118-f03a-4491-b6ab-237a555b35bc"
      },
      "outputs": [
        {
          "output_type": "display_data",
          "data": {
            "text/plain": [
              "<Figure size 216x288 with 1 Axes>"
            ],
            "image/png": "[encoded data removed]"
          },
          "metadata": {
            "needs_background": "light"
          }
        }
      ],
      "source": [
        "# remove rows where year_birth <= 1900:\n",
        "df = df[df['year_birth'] > 1900].reset_index(drop=True)\n",
        "\n",
        "plt.figure(figsize=(3,4))\n",
        "df['year_birth'].plot(kind='box', patch_artist=True)\n",
        "plt.show()"
      ]
    },
    {
      "cell_type": "markdown",
      "id": "43aa8fb3",
      "metadata": {
        "id": "43aa8fb3"
      },
      "source": [
        "### Are there any columns that need to be transformed?"
      ]
    },
    {
      "cell_type": "markdown",
      "id": "7a2690ed",
      "metadata": {
        "id": "7a2690ed"
      },
      "source": [
        "`dt_customer` column should be transformed to datetime format"
      ]
    },
    {
      "cell_type": "code",
      "execution_count": 20,
      "id": "6950080b",
      "metadata": {
        "id": "6950080b"
      },
      "outputs": [],
      "source": [
        "df['dt_customer'] = pd.to_datetime(df['dt_customer'])"
      ]
    },
    {
      "cell_type": "code",
      "execution_count": 21,
      "id": "5b0822f0",
      "metadata": {
        "colab": {
          "base_uri": "https://localhost:8080/"
        },
        "id": "5b0822f0",
        "outputId": "65198132-dff8-46e6-94c7-adf8fbc9405c"
      },
      "outputs": [
        {
          "output_type": "stream",
          "name": "stdout",
          "text": [
            "<class 'pandas.core.frame.DataFrame'>\n",
            "RangeIndex: 2237 entries, 0 to 2236\n",
            "Data columns (total 28 columns):\n",
            " #   Column               Non-Null Count  Dtype         \n",
            "---  ------               --------------  -----         \n",
            " 0   id                   2237 non-null   int64         \n",
            " 1   year_birth           2237 non-null   int64         \n",
            " 2   education            2237 non-null   object        \n",
            " 3   marital_status       2237 non-null   object        \n",
            " 4   income               2237 non-null   float64       \n",
            " 5   kidhome              2237 non-null   int64         \n",
            " 6   teenhome             2237 non-null   int64         \n",
            " 7   dt_customer          2237 non-null   datetime64[ns]\n",
            " 8   recency              2237 non-null   int64         \n",
            " 9   mntwines             2237 non-null   int64         \n",
            " 10  mntfruits            2237 non-null   int64         \n",
            " 11  mntmeatproducts      2237 non-null   int64         \n",
            " 12  mntfishproducts      2237 non-null   int64         \n",
            " 13  mntsweetproducts     2237 non-null   int64         \n",
            " 14  mntgoldprods         2237 non-null   int64         \n",
            " 15  numdealspurchases    2237 non-null   int64         \n",
            " 16  numwebpurchases      2237 non-null   int64         \n",
            " 17  numcatalogpurchases  2237 non-null   int64         \n",
            " 18  numstorepurchases    2237 non-null   int64         \n",
            " 19  numwebvisitsmonth    2237 non-null   int64         \n",
            " 20  acceptedcmp3         2237 non-null   int64         \n",
            " 21  acceptedcmp4         2237 non-null   int64         \n",
            " 22  acceptedcmp5         2237 non-null   int64         \n",
            " 23  acceptedcmp1         2237 non-null   int64         \n",
            " 24  acceptedcmp2         2237 non-null   int64         \n",
            " 25  response             2237 non-null   int64         \n",
            " 26  complain             2237 non-null   int64         \n",
            " 27  country              2237 non-null   object        \n",
            "dtypes: datetime64[ns](1), float64(1), int64(23), object(3)\n",
            "memory usage: 489.5+ KB\n"
          ]
        }
      ],
      "source": [
        "df.info()"
      ]
    },
    {
      "cell_type": "markdown",
      "id": "be5ab5eb",
      "metadata": {
        "id": "be5ab5eb"
      },
      "source": [
        "### Are there any useful for further analysis variables that can be calculated?"
      ]
    },
    {
      "cell_type": "markdown",
      "id": "d0933f1c",
      "metadata": {
        "id": "d0933f1c"
      },
      "source": [
        "Features that can be and will be calculated:\n",
        "* Date (year) of first purchase (`first_year_customer`) from `dt_Customer`\n",
        "* Total spent amount (`total_mnt`): sum of all features with the word 'mnt'\n",
        "* Total number of purchases (`total_purchases`): sum of all features with the word 'purchases'\n",
        "* Total number of campains accepted (`total_campaigns`): sum of all features with the words 'cmp' and 'response'\n",
        "* Total number of dependents in the home (`dependents`): sum of `kidhome` and `teenhome`"
      ]
    },
    {
      "cell_type": "code",
      "execution_count": 22,
      "id": "8921b16f",
      "metadata": {
        "colab": {
          "base_uri": "https://localhost:8080/",
          "height": 206
        },
        "id": "8921b16f",
        "outputId": "8055f7f1-85d3-4ac2-b278-fd7bfe57c277"
      },
      "outputs": [
        {
          "output_type": "execute_result",
          "data": {
            "text/plain": [
              "      id  first_year_customer  total_mnt  total_purchases  total_campaigns  \\\n",
              "0   1826                 2014       1190               15                1   \n",
              "1      1                 2014        577               18                2   \n",
              "2  10476                 2014        251               11                0   \n",
              "3   1386                 2014         11                4                0   \n",
              "4   5371                 2014         91                8                2   \n",
              "\n",
              "   dependents  \n",
              "0           0  \n",
              "1           0  \n",
              "2           1  \n",
              "3           2  \n",
              "4           1  "
            ],
            "text/html": [
              "\n",
              "  <div id=\"df-dd2cf53b-8ed1-43fa-b531-f54a6ac04105\">\n",
              "    <div class=\"colab-df-container\">\n",
              "      <div>\n",
              "<style scoped>\n",
              "    .dataframe tbody tr th:only-of-type {\n",
              "        vertical-align: middle;\n",
              "    }\n",
              "\n",
              "    .dataframe tbody tr th {\n",
              "        vertical-align: top;\n",
              "    }\n",
              "\n",
              "    .dataframe thead th {\n",
              "        text-align: right;\n",
              "    }\n",
              "</style>\n",
              "<table border=\"1\" class=\"dataframe\">\n",
              "  <thead>\n",
              "    <tr style=\"text-align: right;\">\n",
              "      <th></th>\n",
              "      <th>id</th>\n",
              "      <th>first_year_customer</th>\n",
              "      <th>total_mnt</th>\n",
              "      <th>total_purchases</th>\n",
              "      <th>total_campaigns</th>\n",
              "      <th>dependents</th>\n",
              "    </tr>\n",
              "  </thead>\n",
              "  <tbody>\n",
              "    <tr>\n",
              "      <th>0</th>\n",
              "      <td>1826</td>\n",
              "      <td>2014</td>\n",
              "      <td>1190</td>\n",
              "      <td>15</td>\n",
              "      <td>1</td>\n",
              "      <td>0</td>\n",
              "    </tr>\n",
              "    <tr>\n",
              "      <th>1</th>\n",
              "      <td>1</td>\n",
              "      <td>2014</td>\n",
              "      <td>577</td>\n",
              "      <td>18</td>\n",
              "      <td>2</td>\n",
              "      <td>0</td>\n",
              "    </tr>\n",
              "    <tr>\n",
              "      <th>2</th>\n",
              "      <td>10476</td>\n",
              "      <td>2014</td>\n",
              "      <td>251</td>\n",
              "      <td>11</td>\n",
              "      <td>0</td>\n",
              "      <td>1</td>\n",
              "    </tr>\n",
              "    <tr>\n",
              "      <th>3</th>\n",
              "      <td>1386</td>\n",
              "      <td>2014</td>\n",
              "      <td>11</td>\n",
              "      <td>4</td>\n",
              "      <td>0</td>\n",
              "      <td>2</td>\n",
              "    </tr>\n",
              "    <tr>\n",
              "      <th>4</th>\n",
              "      <td>5371</td>\n",
              "      <td>2014</td>\n",
              "      <td>91</td>\n",
              "      <td>8</td>\n",
              "      <td>2</td>\n",
              "      <td>1</td>\n",
              "    </tr>\n",
              "  </tbody>\n",
              "</table>\n",
              "</div>\n",
              "      <button class=\"colab-df-convert\" onclick=\"convertToInteractive('df-dd2cf53b-8ed1-43fa-b531-f54a6ac04105')\"\n",
              "              title=\"Convert this dataframe to an interactive table.\"\n",
              "              style=\"display:none;\">\n",
              "        \n",
              "  <svg xmlns=\"http://www.w3.org/2000/svg\" height=\"24px\"viewBox=\"0 0 24 24\"\n",
              "       width=\"24px\">\n",
              "    <path d=\"M0 0h24v24H0V0z\" fill=\"none\"/>\n",
              "    <path d=\"M18.56 5.44l.94 2.06.94-2.06 2.06-.94-2.06-.94-.94-2.06-.94 2.06-2.06.94zm-11 1L8.5 8.5l.94-2.06 2.06-.94-2.06-.94L8.5 2.5l-.94 2.06-2.06.94zm10 10l.94 2.06.94-2.06 2.06-.94-2.06-.94-.94-2.06-.94 2.06-2.06.94z\"/><path d=\"M17.41 7.96l-1.37-1.37c-.4-.4-.92-.59-1.43-.59-.52 0-1.04.2-1.43.59L10.3 9.45l-7.72 7.72c-.78.78-.78 2.05 0 2.83L4 21.41c.39.39.9.59 1.41.59.51 0 1.02-.2 1.41-.59l7.78-7.78 2.81-2.81c.8-.78.8-2.07 0-2.86zM5.41 20L4 18.59l7.72-7.72 1.47 1.35L5.41 20z\"/>\n",
              "  </svg>\n",
              "      </button>\n",
              "      \n",
              "  <style>\n",
              "    .colab-df-container {\n",
              "      display:flex;\n",
              "      flex-wrap:wrap;\n",
              "      gap: 12px;\n",
              "    }\n",
              "\n",
              "    .colab-df-convert {\n",
              "      background-color: #E8F0FE;\n",
              "      border: none;\n",
              "      border-radius: 50%;\n",
              "      cursor: pointer;\n",
              "      display: none;\n",
              "      fill: #1967D2;\n",
              "      height: 32px;\n",
              "      padding: 0 0 0 0;\n",
              "      width: 32px;\n",
              "    }\n",
              "\n",
              "    .colab-df-convert:hover {\n",
              "      background-color: #E2EBFA;\n",
              "      box-shadow: 0px 1px 2px rgba(60, 64, 67, 0.3), 0px 1px 3px 1px rgba(60, 64, 67, 0.15);\n",
              "      fill: #174EA6;\n",
              "    }\n",
              "\n",
              "    [theme=dark] .colab-df-convert {\n",
              "      background-color: #3B4455;\n",
              "      fill: #D2E3FC;\n",
              "    }\n",
              "\n",
              "    [theme=dark] .colab-df-convert:hover {\n",
              "      background-color: #434B5C;\n",
              "      box-shadow: 0px 1px 3px 1px rgba(0, 0, 0, 0.15);\n",
              "      filter: drop-shadow(0px 1px 2px rgba(0, 0, 0, 0.3));\n",
              "      fill: #FFFFFF;\n",
              "    }\n",
              "  </style>\n",
              "\n",
              "      <script>\n",
              "        const buttonEl =\n",
              "          document.querySelector('#df-dd2cf53b-8ed1-43fa-b531-f54a6ac04105 button.colab-df-convert');\n",
              "        buttonEl.style.display =\n",
              "          google.colab.kernel.accessAllowed ? 'block' : 'none';\n",
              "\n",
              "        async function convertToInteractive(key) {\n",
              "          const element = document.querySelector('#df-dd2cf53b-8ed1-43fa-b531-f54a6ac04105');\n",
              "          const dataTable =\n",
              "            await google.colab.kernel.invokeFunction('convertToInteractive',\n",
              "                                                     [key], {});\n",
              "          if (!dataTable) return;\n",
              "\n",
              "          const docLinkHtml = 'Like what you see? Visit the ' +\n",
              "            '<a target=\"_blank\" href=https://colab.research.google.com/notebooks/data_table.ipynb>data table notebook</a>'\n",
              "            + ' to learn more about interactive tables.';\n",
              "          element.innerHTML = '';\n",
              "          dataTable['output_type'] = 'display_data';\n",
              "          await google.colab.output.renderOutput(dataTable, element);\n",
              "          const docLink = document.createElement('div');\n",
              "          docLink.innerHTML = docLinkHtml;\n",
              "          element.appendChild(docLink);\n",
              "        }\n",
              "      </script>\n",
              "    </div>\n",
              "  </div>\n",
              "  "
            ]
          },
          "metadata": {},
          "execution_count": 22
        }
      ],
      "source": [
        "df['first_year_customer'] = pd.DatetimeIndex(df['dt_customer']).year\n",
        "\n",
        "mnt_cols = [col for col in df.columns if 'mnt' in col]\n",
        "df['total_mnt'] = df[mnt_cols].sum(axis=1)\n",
        "\n",
        "purchases_cols = [col for col in df.columns if 'purchases' in col]\n",
        "df['total_purchases'] = df[purchases_cols].sum(axis=1)\n",
        "\n",
        "campaigns_cols = [col for col in df.columns if 'cmp' in col] + ['response']\n",
        "df['total_campaigns'] = df[campaigns_cols].sum(axis=1)\n",
        "\n",
        "df['dependents'] = df['kidhome'] + df['teenhome']\n",
        "\n",
        "df[['id', 'first_year_customer', 'total_mnt', 'total_purchases', 'total_campaigns', 'dependents']].head()"
      ]
    },
    {
      "cell_type": "markdown",
      "id": "76914f5a",
      "metadata": {
        "id": "76914f5a"
      },
      "source": [
        "### Are there any patterns or anomalies in the data?"
      ]
    },
    {
      "cell_type": "markdown",
      "id": "68b191fd",
      "metadata": {
        "id": "68b191fd"
      },
      "source": [
        "Through inspecting correlations patterns will be identified. Positive correlations painted red, negative correlations - blue, and no correlation painted grey in the clustered heatmap below.\n",
        "\n",
        "**Patterns and clusters:**\n",
        "1. The \"High Income\" cluster:\n",
        "\n",
        "* Amount spent (`total_mnt` and other 'mnt' features) and number of purchases (`total_purchases` and other 'purchases' features) are positively correlated with `income`\n",
        "* Purchasing in store (`numstorepurchases`), on the web (`numwebpurchases`), or via the catalog (`numcatalogpurchases`) is positively correlated with `income`\n",
        "\n",
        "2. The \"Have Kids & Teens\" cluster:\n",
        "\n",
        "* Amount spent (`total_mnt` and other 'mnt' features) and number of purchases (`total_purchases` and other 'purchases' features) are negatively correlated with `dependents`\n",
        "* Purchasing deals (`numdealspurchases`) is positively correlated with `dependents` (kids and/or teens) and negatively correlated with `income`\n",
        "\n",
        "3. The \"Advertising Campaigns\" cluster:\n",
        "\n",
        "* Acceptance of the advertising campaigns (`acceptedcmp` and `response`) are strongly positively correlated with each other\n",
        "* Weak positive correlation of the advertising campaigns is seen with the \"High Income\" cluster, and weak negative correlation is seen with the \"Have Kids & Teens\" cluster\n",
        "\n",
        "**Anomalies:**\n",
        "* Remarkably, the number of website visits in the last month (`numwebvisitsmonth`) does not correlate with an increased number of web purchases (`numwebpurchases`)\n",
        "* However, `numwebvisitsmonth` is positively correlated with the number of deals purchased (`numdealspurchases`), maybe suggesting deals are an effective way of stimulating purchases on the website"
      ]
    },
    {
      "cell_type": "code",
      "execution_count": 23,
      "id": "36391547",
      "metadata": {
        "colab": {
          "base_uri": "https://localhost:8080/",
          "height": 730
        },
        "id": "36391547",
        "outputId": "9fb3de84-5377-4f26-ac70-db3fb240f931"
      },
      "outputs": [
        {
          "output_type": "display_data",
          "data": {
            "text/plain": [
              "<Figure size 720x720 with 4 Axes>"
            ],
            "image/png": "[encoded data removed]"
          },
          "metadata": {
            "needs_background": "light"
          }
        }
      ],
      "source": [
        "# calculate correlation matrix\n",
        "## using non-parametric test of correlation (Kendall), since some features are binary\n",
        "corrs = df.drop(columns='id').select_dtypes(include=np.number).corr(method = 'kendall')\n",
        "sns.clustermap(corrs, cmap='coolwarm', center=0)\n",
        "plt.show()"
      ]
    },
    {
      "cell_type": "markdown",
      "id": "95e297c2",
      "metadata": {
        "id": "95e297c2"
      },
      "source": [
        "Plot shows the effect of higher income on spendings. Also outliers were removed limiting income to < 200,000"
      ]
    },
    {
      "cell_type": "code",
      "execution_count": 24,
      "id": "0d4c7d04",
      "metadata": {
        "colab": {
          "base_uri": "https://localhost:8080/",
          "height": 279
        },
        "id": "0d4c7d04",
        "outputId": "e2f9bc83-3871-4c68-bbd0-00889a32380d"
      },
      "outputs": [
        {
          "output_type": "display_data",
          "data": {
            "text/plain": [
              "<Figure size 432x288 with 1 Axes>"
            ],
            "image/png": "[encoded data removed]"
          },
          "metadata": {
            "needs_background": "light"
          }
        }
      ],
      "source": [
        "sns.histplot(data=df[df['income'] < 200000], x='income', y='total_mnt')\n",
        "plt.show()"
      ]
    },
    {
      "cell_type": "markdown",
      "id": "03a45b39",
      "metadata": {
        "id": "03a45b39"
      },
      "source": [
        "Negative effect of having dependents (kids, teens) on spendings was illustrated"
      ]
    },
    {
      "cell_type": "code",
      "execution_count": 25,
      "id": "f6766ba3",
      "metadata": {
        "colab": {
          "base_uri": "https://localhost:8080/",
          "height": 279
        },
        "id": "f6766ba3",
        "outputId": "5b658571-cdb8-4f50-ceb5-68a459035cac"
      },
      "outputs": [
        {
          "output_type": "display_data",
          "data": {
            "text/plain": [
              "<Figure size 288x288 with 1 Axes>"
            ],
            "image/png": "[encoded data removed]"
          },
          "metadata": {
            "needs_background": "light"
          }
        }
      ],
      "source": [
        "plt.figure(figsize=(4,4))\n",
        "sns.boxplot(data=df, x='dependents', y='total_mnt')\n",
        "plt.show()"
      ]
    },
    {
      "cell_type": "markdown",
      "id": "74a8e91e",
      "metadata": {
        "id": "74a8e91e"
      },
      "source": [
        "Next plot illustrates positive effect of having dependents(kids, teens) on number of deals"
      ]
    },
    {
      "cell_type": "code",
      "execution_count": 26,
      "id": "7c9c66fc",
      "metadata": {
        "colab": {
          "base_uri": "https://localhost:8080/",
          "height": 279
        },
        "id": "7c9c66fc",
        "outputId": "f85d5aeb-75d5-4cba-8a2a-ab78ea8f0b5f"
      },
      "outputs": [
        {
          "output_type": "display_data",
          "data": {
            "text/plain": [
              "<Figure size 288x288 with 1 Axes>"
            ],
            "image/png": "[encoded data removed]"
          },
          "metadata": {
            "needs_background": "light"
          }
        }
      ],
      "source": [
        "plt.figure(figsize=(4,4))\n",
        "sns.boxplot(data=df, x='dependents', y='numdealspurchases')\n",
        "plt.show()"
      ]
    },
    {
      "cell_type": "markdown",
      "id": "fb37f15d",
      "metadata": {
        "id": "fb37f15d"
      },
      "source": [
        "Plots illustrate the positive effect of income and negative effect of having kids & teens on advertising campaign acceptance\n",
        "(outliers were removed limiting income to < 200,000)"
      ]
    },
    {
      "cell_type": "code",
      "execution_count": 27,
      "id": "5530dfe4",
      "metadata": {
        "colab": {
          "base_uri": "https://localhost:8080/",
          "height": 280
        },
        "id": "5530dfe4",
        "outputId": "f21ab81f-1fa5-4a9e-ce89-ba11708c24ce"
      },
      "outputs": [
        {
          "output_type": "display_data",
          "data": {
            "text/plain": [
              "<Figure size 432x288 with 1 Axes>"
            ],
            "image/png": "[encoded data removed]"
          },
          "metadata": {
            "needs_background": "light"
          }
        }
      ],
      "source": [
        "plt.figure(figsize=(6,4))\n",
        "sns.boxplot(data=df[df['income']<200000], x='total_campaigns', y='income')\n",
        "plt.show()"
      ]
    },
    {
      "cell_type": "code",
      "execution_count": 28,
      "id": "efce9f37",
      "metadata": {
        "colab": {
          "base_uri": "https://localhost:8080/",
          "height": 280
        },
        "id": "efce9f37",
        "outputId": "2c993572-5d4a-4fc1-e646-01f75c5d9629"
      },
      "outputs": [
        {
          "output_type": "display_data",
          "data": {
            "text/plain": [
              "<Figure size 432x288 with 1 Axes>"
            ],
            "image/png": "[encoded data removed]"
          },
          "metadata": {
            "needs_background": "light"
          }
        }
      ],
      "source": [
        "plt.figure(figsize=(6,4))\n",
        "sns.boxplot(data=df, x='total_campaigns', y='dependents')\n",
        "plt.show()"
      ]
    },
    {
      "cell_type": "markdown",
      "id": "2676444c",
      "metadata": {
        "id": "2676444c"
      },
      "source": [
        "About anomaly, number of web visits in the last month is not positively correlated with number of web purchases\n",
        "\n",
        "Nevertheless, it is positively correlated with the number of deals purchased, suggesting that deals is effective way of rising purchases on the website"
      ]
    },
    {
      "cell_type": "code",
      "execution_count": 29,
      "id": "b780b857",
      "metadata": {
        "colab": {
          "base_uri": "https://localhost:8080/",
          "height": 279
        },
        "id": "b780b857",
        "outputId": "1c037c10-fd80-49ae-c7d0-5e70f2f6dda0"
      },
      "outputs": [
        {
          "output_type": "display_data",
          "data": {
            "text/plain": [
              "<Figure size 432x288 with 1 Axes>"
            ],
            "image/png": "[encoded data removed]"
          },
          "metadata": {
            "needs_background": "light"
          }
        }
      ],
      "source": [
        "sns.histplot(data=df, x='numwebvisitsmonth', y='numwebpurchases')\n",
        "plt.show()"
      ]
    },
    {
      "cell_type": "code",
      "execution_count": 30,
      "id": "471a0573",
      "metadata": {
        "colab": {
          "base_uri": "https://localhost:8080/",
          "height": 279
        },
        "id": "471a0573",
        "outputId": "5fe31b39-8049-43f9-80c5-9c4ba299cedd"
      },
      "outputs": [
        {
          "output_type": "display_data",
          "data": {
            "text/plain": [
              "<Figure size 432x288 with 1 Axes>"
            ],
            "image/png": "[encoded data removed]"
          },
          "metadata": {
            "needs_background": "light"
          }
        }
      ],
      "source": [
        "sns.histplot(data=df, x='numwebvisitsmonth', y='numdealspurchases')\n",
        "plt.show()"
      ]
    },
    {
      "cell_type": "markdown",
      "id": "e3e806f0",
      "metadata": {
        "id": "e3e806f0"
      },
      "source": [
        "## Statistical Analysis"
      ]
    },
    {
      "cell_type": "markdown",
      "id": "00fd29df",
      "metadata": {
        "id": "00fd29df"
      },
      "source": [
        "### What factors are related to the number of store purchases?"
      ]
    },
    {
      "cell_type": "markdown",
      "id": "83c485ee",
      "metadata": {
        "id": "83c485ee"
      },
      "source": [
        "To answer the question linear regression model will be used with `numstorepurchases` as the target variable.\n",
        "\n",
        "After that machine learning explainability techniques will be applied to get insights about which factors predict the number of store purchases.\n",
        "\n",
        "Let's start by plotting `numstorepurchases`:"
      ]
    },
    {
      "cell_type": "code",
      "execution_count": 31,
      "id": "0f699506",
      "metadata": {
        "id": "0f699506"
      },
      "outputs": [],
      "source": [
        "def freedman_diaconis(data, returnas=\"width\"):\n",
        "    from scipy import stats\n",
        "    data = np.asarray(data, dtype=np.float_)\n",
        "    IQR = stats.iqr(data, rng=(25, 75), scale=1.0, nan_policy=\"omit\")\n",
        "    N = data.size\n",
        "    bw = (2 * IQR) / np.power(N, 1/3)\n",
        "\n",
        "    if returnas==\"width\":\n",
        "        result = bw\n",
        "    else:\n",
        "        datmin, datmax = data.min(), data.max()\n",
        "        datrng = datmax - datmin\n",
        "        result = int((datrng / bw) + 1)\n",
        "    return(result)\n",
        "NBR_BINS = freedman_diaconis(df['numstorepurchases'], returnas=\"bins\")"
      ]
    },
    {
      "cell_type": "code",
      "execution_count": 32,
      "id": "b57e9b1c",
      "metadata": {
        "colab": {
          "base_uri": "https://localhost:8080/",
          "height": 387
        },
        "id": "b57e9b1c",
        "outputId": "724a3091-9891-417c-8f83-c9ee2275ad41"
      },
      "outputs": [
        {
          "output_type": "display_data",
          "data": {
            "text/plain": [
              "<Figure size 360x360 with 1 Axes>"
            ],
            "image/png": "[encoded data removed]"
          },
          "metadata": {
            "needs_background": "light"
          }
        }
      ],
      "source": [
        "sns.displot(df['numstorepurchases'], bins=NBR_BINS)\n",
        "plt.title('numstorepurchases distribution', size=16)\n",
        "plt.ylabel('count')\n",
        "plt.show()"
      ]
    },
    {
      "cell_type": "markdown",
      "id": "0072cda9",
      "metadata": {
        "id": "0072cda9"
      },
      "source": [
        "For further analysis uninformative features will be dropped (`id` is unique to each customer, `dt_customer` because `year_customer` will be used)\n",
        "\n",
        "Next, perform **one-hot encoding of categorical features**"
      ]
    },
    {
      "cell_type": "code",
      "execution_count": 33,
      "id": "2326db53",
      "metadata": {
        "id": "2326db53"
      },
      "outputs": [],
      "source": [
        "df.drop(columns=['id', 'dt_customer'], inplace=True)"
      ]
    },
    {
      "cell_type": "code",
      "execution_count": 34,
      "id": "5647e24b",
      "metadata": {
        "id": "5647e24b"
      },
      "outputs": [],
      "source": [
        "from sklearn.preprocessing import OneHotEncoder\n",
        "from sklearn.model_selection import train_test_split\n",
        "from sklearn.linear_model import LinearRegression\n",
        "from sklearn.metrics import mean_squared_error"
      ]
    },
    {
      "cell_type": "code",
      "execution_count": 35,
      "id": "b19e819b",
      "metadata": {
        "colab": {
          "base_uri": "https://localhost:8080/",
          "height": 444
        },
        "id": "b19e819b",
        "outputId": "5356e5c6-2398-4ffa-f815-50ad5cca9436"
      },
      "outputs": [
        {
          "output_type": "stream",
          "name": "stdout",
          "text": [
            "Number of unique values per categorical feature:\n",
            " education         5\n",
            "marital_status    8\n",
            "country           8\n",
            "dtype: int64\n"
          ]
        },
        {
          "output_type": "stream",
          "name": "stderr",
          "text": [
            "/usr/local/lib/python3.8/dist-packages/sklearn/utils/deprecation.py:87: FutureWarning: Function get_feature_names is deprecated; get_feature_names is deprecated in 1.0 and will be removed in 1.2. Please use get_feature_names_out instead.\n",
            "  warnings.warn(msg, category=FutureWarning)\n"
          ]
        },
        {
          "output_type": "execute_result",
          "data": {
            "text/plain": [
              "   education_2n Cycle  education_Basic  education_Graduation  \\\n",
              "0                 0.0              0.0                   1.0   \n",
              "1                 0.0              0.0                   1.0   \n",
              "2                 0.0              0.0                   1.0   \n",
              "3                 0.0              0.0                   1.0   \n",
              "4                 0.0              0.0                   1.0   \n",
              "\n",
              "   education_Master  education_PhD  marital_status_Absurd  \\\n",
              "0               0.0            0.0                    0.0   \n",
              "1               0.0            0.0                    0.0   \n",
              "2               0.0            0.0                    0.0   \n",
              "3               0.0            0.0                    0.0   \n",
              "4               0.0            0.0                    0.0   \n",
              "\n",
              "   marital_status_Alone  marital_status_Divorced  marital_status_Married  \\\n",
              "0                   0.0                      1.0                     0.0   \n",
              "1                   0.0                      0.0                     0.0   \n",
              "2                   0.0                      0.0                     1.0   \n",
              "3                   0.0                      0.0                     0.0   \n",
              "4                   0.0                      0.0                     0.0   \n",
              "\n",
              "   marital_status_Single  ...  acceptedcmp5  acceptedcmp1  acceptedcmp2  \\\n",
              "0                    0.0  ...             0             0             0   \n",
              "1                    1.0  ...             0             0             1   \n",
              "2                    0.0  ...             0             0             0   \n",
              "3                    0.0  ...             0             0             0   \n",
              "4                    1.0  ...             0             0             0   \n",
              "\n",
              "   response  complain  first_year_customer  total_mnt  total_purchases  \\\n",
              "0         1         0                 2014       1190               15   \n",
              "1         1         0                 2014        577               18   \n",
              "2         0         0                 2014        251               11   \n",
              "3         0         0                 2014         11                4   \n",
              "4         1         0                 2014         91                8   \n",
              "\n",
              "   total_campaigns  dependents  \n",
              "0                1           0  \n",
              "1                2           0  \n",
              "2                0           1  \n",
              "3                0           2  \n",
              "4                2           1  \n",
              "\n",
              "[5 rows x 49 columns]"
            ],
            "text/html": [
              "\n",
              "  <div id=\"df-af2c81c0-ba61-4451-ba62-680772fc21b5\">\n",
              "    <div class=\"colab-df-container\">\n",
              "      <div>\n",
              "<style scoped>\n",
              "    .dataframe tbody tr th:only-of-type {\n",
              "        vertical-align: middle;\n",
              "    }\n",
              "\n",
              "    .dataframe tbody tr th {\n",
              "        vertical-align: top;\n",
              "    }\n",
              "\n",
              "    .dataframe thead th {\n",
              "        text-align: right;\n",
              "    }\n",
              "</style>\n",
              "<table border=\"1\" class=\"dataframe\">\n",
              "  <thead>\n",
              "    <tr style=\"text-align: right;\">\n",
              "      <th></th>\n",
              "      <th>education_2n Cycle</th>\n",
              "      <th>education_Basic</th>\n",
              "      <th>education_Graduation</th>\n",
              "      <th>education_Master</th>\n",
              "      <th>education_PhD</th>\n",
              "      <th>marital_status_Absurd</th>\n",
              "      <th>marital_status_Alone</th>\n",
              "      <th>marital_status_Divorced</th>\n",
              "      <th>marital_status_Married</th>\n",
              "      <th>marital_status_Single</th>\n",
              "      <th>...</th>\n",
              "      <th>acceptedcmp5</th>\n",
              "      <th>acceptedcmp1</th>\n",
              "      <th>acceptedcmp2</th>\n",
              "      <th>response</th>\n",
              "      <th>complain</th>\n",
              "      <th>first_year_customer</th>\n",
              "      <th>total_mnt</th>\n",
              "      <th>total_purchases</th>\n",
              "      <th>total_campaigns</th>\n",
              "      <th>dependents</th>\n",
              "    </tr>\n",
              "  </thead>\n",
              "  <tbody>\n",
              "    <tr>\n",
              "      <th>0</th>\n",
              "      <td>0.0</td>\n",
              "      <td>0.0</td>\n",
              "      <td>1.0</td>\n",
              "      <td>0.0</td>\n",
              "      <td>0.0</td>\n",
              "      <td>0.0</td>\n",
              "      <td>0.0</td>\n",
              "      <td>1.0</td>\n",
              "      <td>0.0</td>\n",
              "      <td>0.0</td>\n",
              "      <td>...</td>\n",
              "      <td>0</td>\n",
              "      <td>0</td>\n",
              "      <td>0</td>\n",
              "      <td>1</td>\n",
              "      <td>0</td>\n",
              "      <td>2014</td>\n",
              "      <td>1190</td>\n",
              "      <td>15</td>\n",
              "      <td>1</td>\n",
              "      <td>0</td>\n",
              "    </tr>\n",
              "    <tr>\n",
              "      <th>1</th>\n",
              "      <td>0.0</td>\n",
              "      <td>0.0</td>\n",
              "      <td>1.0</td>\n",
              "      <td>0.0</td>\n",
              "      <td>0.0</td>\n",
              "      <td>0.0</td>\n",
              "      <td>0.0</td>\n",
              "      <td>0.0</td>\n",
              "      <td>0.0</td>\n",
              "      <td>1.0</td>\n",
              "      <td>...</td>\n",
              "      <td>0</td>\n",
              "      <td>0</td>\n",
              "      <td>1</td>\n",
              "      <td>1</td>\n",
              "      <td>0</td>\n",
              "      <td>2014</td>\n",
              "      <td>577</td>\n",
              "      <td>18</td>\n",
              "      <td>2</td>\n",
              "      <td>0</td>\n",
              "    </tr>\n",
              "    <tr>\n",
              "      <th>2</th>\n",
              "      <td>0.0</td>\n",
              "      <td>0.0</td>\n",
              "      <td>1.0</td>\n",
              "      <td>0.0</td>\n",
              "      <td>0.0</td>\n",
              "      <td>0.0</td>\n",
              "      <td>0.0</td>\n",
              "      <td>0.0</td>\n",
              "      <td>1.0</td>\n",
              "      <td>0.0</td>\n",
              "      <td>...</td>\n",
              "      <td>0</td>\n",
              "      <td>0</td>\n",
              "      <td>0</td>\n",
              "      <td>0</td>\n",
              "      <td>0</td>\n",
              "      <td>2014</td>\n",
              "      <td>251</td>\n",
              "      <td>11</td>\n",
              "      <td>0</td>\n",
              "      <td>1</td>\n",
              "    </tr>\n",
              "    <tr>\n",
              "      <th>3</th>\n",
              "      <td>0.0</td>\n",
              "      <td>0.0</td>\n",
              "      <td>1.0</td>\n",
              "      <td>0.0</td>\n",
              "      <td>0.0</td>\n",
              "      <td>0.0</td>\n",
              "      <td>0.0</td>\n",
              "      <td>0.0</td>\n",
              "      <td>0.0</td>\n",
              "      <td>0.0</td>\n",
              "      <td>...</td>\n",
              "      <td>0</td>\n",
              "      <td>0</td>\n",
              "      <td>0</td>\n",
              "      <td>0</td>\n",
              "      <td>0</td>\n",
              "      <td>2014</td>\n",
              "      <td>11</td>\n",
              "      <td>4</td>\n",
              "      <td>0</td>\n",
              "      <td>2</td>\n",
              "    </tr>\n",
              "    <tr>\n",
              "      <th>4</th>\n",
              "      <td>0.0</td>\n",
              "      <td>0.0</td>\n",
              "      <td>1.0</td>\n",
              "      <td>0.0</td>\n",
              "      <td>0.0</td>\n",
              "      <td>0.0</td>\n",
              "      <td>0.0</td>\n",
              "      <td>0.0</td>\n",
              "      <td>0.0</td>\n",
              "      <td>1.0</td>\n",
              "      <td>...</td>\n",
              "      <td>0</td>\n",
              "      <td>0</td>\n",
              "      <td>0</td>\n",
              "      <td>1</td>\n",
              "      <td>0</td>\n",
              "      <td>2014</td>\n",
              "      <td>91</td>\n",
              "      <td>8</td>\n",
              "      <td>2</td>\n",
              "      <td>1</td>\n",
              "    </tr>\n",
              "  </tbody>\n",
              "</table>\n",
              "<p>5 rows × 49 columns</p>\n",
              "</div>\n",
              "      <button class=\"colab-df-convert\" onclick=\"convertToInteractive('df-af2c81c0-ba61-4451-ba62-680772fc21b5')\"\n",
              "              title=\"Convert this dataframe to an interactive table.\"\n",
              "              style=\"display:none;\">\n",
              "        \n",
              "  <svg xmlns=\"http://www.w3.org/2000/svg\" height=\"24px\"viewBox=\"0 0 24 24\"\n",
              "       width=\"24px\">\n",
              "    <path d=\"M0 0h24v24H0V0z\" fill=\"none\"/>\n",
              "    <path d=\"M18.56 5.44l.94 2.06.94-2.06 2.06-.94-2.06-.94-.94-2.06-.94 2.06-2.06.94zm-11 1L8.5 8.5l.94-2.06 2.06-.94-2.06-.94L8.5 2.5l-.94 2.06-2.06.94zm10 10l.94 2.06.94-2.06 2.06-.94-2.06-.94-.94-2.06-.94 2.06-2.06.94z\"/><path d=\"M17.41 7.96l-1.37-1.37c-.4-.4-.92-.59-1.43-.59-.52 0-1.04.2-1.43.59L10.3 9.45l-7.72 7.72c-.78.78-.78 2.05 0 2.83L4 21.41c.39.39.9.59 1.41.59.51 0 1.02-.2 1.41-.59l7.78-7.78 2.81-2.81c.8-.78.8-2.07 0-2.86zM5.41 20L4 18.59l7.72-7.72 1.47 1.35L5.41 20z\"/>\n",
              "  </svg>\n",
              "      </button>\n",
              "      \n",
              "  <style>\n",
              "    .colab-df-container {\n",
              "      display:flex;\n",
              "      flex-wrap:wrap;\n",
              "      gap: 12px;\n",
              "    }\n",
              "\n",
              "    .colab-df-convert {\n",
              "      background-color: #E8F0FE;\n",
              "      border: none;\n",
              "      border-radius: 50%;\n",
              "      cursor: pointer;\n",
              "      display: none;\n",
              "      fill: #1967D2;\n",
              "      height: 32px;\n",
              "      padding: 0 0 0 0;\n",
              "      width: 32px;\n",
              "    }\n",
              "\n",
              "    .colab-df-convert:hover {\n",
              "      background-color: #E2EBFA;\n",
              "      box-shadow: 0px 1px 2px rgba(60, 64, 67, 0.3), 0px 1px 3px 1px rgba(60, 64, 67, 0.15);\n",
              "      fill: #174EA6;\n",
              "    }\n",
              "\n",
              "    [theme=dark] .colab-df-convert {\n",
              "      background-color: #3B4455;\n",
              "      fill: #D2E3FC;\n",
              "    }\n",
              "\n",
              "    [theme=dark] .colab-df-convert:hover {\n",
              "      background-color: #434B5C;\n",
              "      box-shadow: 0px 1px 3px 1px rgba(0, 0, 0, 0.15);\n",
              "      filter: drop-shadow(0px 1px 2px rgba(0, 0, 0, 0.3));\n",
              "      fill: #FFFFFF;\n",
              "    }\n",
              "  </style>\n",
              "\n",
              "      <script>\n",
              "        const buttonEl =\n",
              "          document.querySelector('#df-af2c81c0-ba61-4451-ba62-680772fc21b5 button.colab-df-convert');\n",
              "        buttonEl.style.display =\n",
              "          google.colab.kernel.accessAllowed ? 'block' : 'none';\n",
              "\n",
              "        async function convertToInteractive(key) {\n",
              "          const element = document.querySelector('#df-af2c81c0-ba61-4451-ba62-680772fc21b5');\n",
              "          const dataTable =\n",
              "            await google.colab.kernel.invokeFunction('convertToInteractive',\n",
              "                                                     [key], {});\n",
              "          if (!dataTable) return;\n",
              "\n",
              "          const docLinkHtml = 'Like what you see? Visit the ' +\n",
              "            '<a target=\"_blank\" href=https://colab.research.google.com/notebooks/data_table.ipynb>data table notebook</a>'\n",
              "            + ' to learn more about interactive tables.';\n",
              "          element.innerHTML = '';\n",
              "          dataTable['output_type'] = 'display_data';\n",
              "          await google.colab.output.renderOutput(dataTable, element);\n",
              "          const docLink = document.createElement('div');\n",
              "          docLink.innerHTML = docLinkHtml;\n",
              "          element.appendChild(docLink);\n",
              "        }\n",
              "      </script>\n",
              "    </div>\n",
              "  </div>\n",
              "  "
            ]
          },
          "metadata": {},
          "execution_count": 35
        }
      ],
      "source": [
        "cat = df.select_dtypes(exclude=np.number)\n",
        "print(\"Number of unique values per categorical feature:\\n\", cat.nunique())\n",
        "\n",
        "enc = OneHotEncoder(sparse=False).fit(cat)\n",
        "cat_encoded = pd.DataFrame(enc.transform(cat))\n",
        "cat_encoded.columns = enc.get_feature_names(cat.columns)\n",
        "\n",
        "# merge with numeric data\n",
        "num = df.drop(columns=cat.columns)\n",
        "df2 = pd.concat([cat_encoded, num], axis=1)\n",
        "df2.head()"
      ]
    },
    {
      "cell_type": "markdown",
      "id": "45263d4b",
      "metadata": {
        "id": "45263d4b"
      },
      "source": [
        "Then fit linear regression model to training data (70% of dataset), after that, evaluate predictions on test data (30% of dataset) using **RMSE** (root-mean-square error)\n",
        "\n",
        "The resulting RMSE is extremely small compared to the mean of our target variable, showing good model predictions."
      ]
    },
    {
      "cell_type": "code",
      "execution_count": 36,
      "id": "0aa0f029",
      "metadata": {
        "colab": {
          "base_uri": "https://localhost:8080/"
        },
        "id": "0aa0f029",
        "outputId": "00349961-0be3-4ad3-dda0-9a444bd4de8b"
      },
      "outputs": [
        {
          "output_type": "stream",
          "name": "stdout",
          "text": [
            "Linear regression model RMSE:  3.19360712671688e-14\n",
            "Median value of target variable:  5.0\n"
          ]
        }
      ],
      "source": [
        "# isolate X and y variables, and perform train-test split\n",
        "X = df2.drop(columns='numstorepurchases')\n",
        "y = df2['numstorepurchases']\n",
        "\n",
        "X_train, X_test, y_train, y_test = train_test_split(X, y, test_size=0.3, random_state=1)\n",
        "\n",
        "# linear regression model\n",
        "model = LinearRegression()\n",
        "model.fit(X_train, y_train)\n",
        "\n",
        "# predictions\n",
        "preds = model.predict(X_test)\n",
        "\n",
        "# evaluate model using RMSE\n",
        "print(\"Linear regression model RMSE: \", np.sqrt(mean_squared_error(y_test, preds)))\n",
        "print(\"Median value of target variable: \", y.median())"
      ]
    },
    {
      "cell_type": "markdown",
      "id": "91cedd35",
      "metadata": {
        "id": "91cedd35"
      },
      "source": [
        "Let's identify features that significantly affect the number of store purchases:\n",
        "\n",
        "* `total_purchases`\n",
        "* `numcatalogpurchases`\n",
        "* `numwebpurchases`\n",
        "* `numdealspurchases`\n",
        "\n",
        "Other features don't relate to the number of store purchases"
      ]
    },
    {
      "cell_type": "code",
      "execution_count": 37,
      "id": "5fc76a8e",
      "metadata": {
        "colab": {
          "base_uri": "https://localhost:8080/",
          "height": 138
        },
        "id": "5fc76a8e",
        "outputId": "0f43c9f4-4e96-408d-9134-50f37480cdbb"
      },
      "outputs": [
        {
          "output_type": "execute_result",
          "data": {
            "text/plain": [
              "<IPython.core.display.HTML object>"
            ],
            "text/html": [
              "\n",
              "    <style>\n",
              "    table.eli5-weights tr:hover {\n",
              "        filter: brightness(85%);\n",
              "    }\n",
              "</style>\n",
              "\n",
              "\n",
              "\n",
              "    \n",
              "\n",
              "    \n",
              "\n",
              "    \n",
              "\n",
              "    \n",
              "\n",
              "    \n",
              "\n",
              "    \n",
              "\n",
              "\n",
              "    \n",
              "\n",
              "    \n",
              "\n",
              "    \n",
              "\n",
              "    \n",
              "\n",
              "    \n",
              "\n",
              "    \n",
              "\n",
              "\n",
              "    \n",
              "\n",
              "    \n",
              "\n",
              "    \n",
              "\n",
              "    \n",
              "\n",
              "    \n",
              "        <table class=\"eli5-weights eli5-feature-importances\" style=\"border-collapse: collapse; border: none; margin-top: 0em; table-layout: auto;\">\n",
              "    <thead>\n",
              "    <tr style=\"border: none;\">\n",
              "        <th style=\"padding: 0 1em 0 0.5em; text-align: right; border: none;\">Weight</th>\n",
              "        <th style=\"padding: 0 0.5em 0 0.5em; text-align: left; border: none;\">Feature</th>\n",
              "    </tr>\n",
              "    </thead>\n",
              "    <tbody>\n",
              "    \n",
              "        <tr style=\"background-color: hsl(120, 100.00%, 80.00%); border: none;\">\n",
              "            <td style=\"padding: 0 1em 0 0.5em; text-align: right; border: none;\">\n",
              "                11.2725\n",
              "                \n",
              "                    &plusmn; 1.0537\n",
              "                \n",
              "            </td>\n",
              "            <td style=\"padding: 0 0.5em 0 0.5em; text-align: left; border: none;\">\n",
              "                total_purchases\n",
              "            </td>\n",
              "        </tr>\n",
              "    \n",
              "        <tr style=\"background-color: hsl(120, 100.00%, 94.12%); border: none;\">\n",
              "            <td style=\"padding: 0 1em 0 0.5em; text-align: right; border: none;\">\n",
              "                1.9621\n",
              "                \n",
              "                    &plusmn; 0.0445\n",
              "                \n",
              "            </td>\n",
              "            <td style=\"padding: 0 0.5em 0 0.5em; text-align: left; border: none;\">\n",
              "                numcatalogpurchases\n",
              "            </td>\n",
              "        </tr>\n",
              "    \n",
              "        <tr style=\"background-color: hsl(120, 100.00%, 95.09%); border: none;\">\n",
              "            <td style=\"padding: 0 1em 0 0.5em; text-align: right; border: none;\">\n",
              "                1.5157\n",
              "                \n",
              "                    &plusmn; 0.0982\n",
              "                \n",
              "            </td>\n",
              "            <td style=\"padding: 0 0.5em 0 0.5em; text-align: left; border: none;\">\n",
              "                numwebpurchases\n",
              "            </td>\n",
              "        </tr>\n",
              "    \n",
              "        <tr style=\"background-color: hsl(120, 100.00%, 96.87%); border: none;\">\n",
              "            <td style=\"padding: 0 1em 0 0.5em; text-align: right; border: none;\">\n",
              "                0.7951\n",
              "                \n",
              "                    &plusmn; 0.0392\n",
              "                \n",
              "            </td>\n",
              "            <td style=\"padding: 0 0.5em 0 0.5em; text-align: left; border: none;\">\n",
              "                numdealspurchases\n",
              "            </td>\n",
              "        </tr>\n",
              "    \n",
              "        <tr style=\"background-color: hsl(0, 100.00%, 100.00%); border: none;\">\n",
              "            <td style=\"padding: 0 1em 0 0.5em; text-align: right; border: none;\">\n",
              "                0\n",
              "                \n",
              "                    &plusmn; 0.0000\n",
              "                \n",
              "            </td>\n",
              "            <td style=\"padding: 0 0.5em 0 0.5em; text-align: left; border: none;\">\n",
              "                country_CA\n",
              "            </td>\n",
              "        </tr>\n",
              "    \n",
              "    \n",
              "        \n",
              "            <tr style=\"background-color: hsl(0, 100.00%, 100.00%); border: none;\">\n",
              "                <td colspan=\"2\" style=\"padding: 0 0.5em 0 0.5em; text-align: center; border: none; white-space: nowrap;\">\n",
              "                    <i>&hellip; 43 more &hellip;</i>\n",
              "                </td>\n",
              "            </tr>\n",
              "        \n",
              "    \n",
              "    </tbody>\n",
              "</table>\n",
              "    \n",
              "\n",
              "    \n",
              "\n",
              "\n",
              "    \n",
              "\n",
              "    \n",
              "\n",
              "    \n",
              "\n",
              "    \n",
              "\n",
              "    \n",
              "\n",
              "    \n",
              "\n",
              "\n",
              "\n"
            ]
          },
          "metadata": {},
          "execution_count": 37
        }
      ],
      "source": [
        "import eli5\n",
        "from eli5.sklearn import PermutationImportance\n",
        "\n",
        "perm = PermutationImportance(model, random_state=1).fit(X_test, y_test)\n",
        "eli5.show_weights(perm, feature_names = X_test.columns.tolist(), top=5)"
      ]
    },
    {
      "cell_type": "markdown",
      "id": "c0b50ac8",
      "metadata": {
        "id": "c0b50ac8"
      },
      "source": [
        "Next step is exploring the directionality of received features, using SHAP valuesb\n",
        "\n",
        "* The number of store purchases **increases** with higher number of total purchases (`total_purchases`)\n",
        "\n",
        "* The number of store purchases **decreases** with higher number of catalog, web, or deals purchases (`numcatalogpurchases`, `numwebpurchases`, `numdealspurchases`)\n",
        "\n",
        "As a result, customers who shop the most in stores are those who shop less via the catalog, website, or special deals"
      ]
    },
    {
      "cell_type": "code",
      "execution_count": 38,
      "id": "f58a167a",
      "metadata": {
        "colab": {
          "base_uri": "https://localhost:8080/",
          "height": 273
        },
        "id": "f58a167a",
        "outputId": "5e19708b-8bfc-4c14-9922-77734b4630c2"
      },
      "outputs": [
        {
          "output_type": "display_data",
          "data": {
            "text/plain": [
              "<Figure size 576x252 with 2 Axes>"
            ],
            "image/png": "[encoded data removed]"
          },
          "metadata": {
            "needs_background": "light"
          }
        }
      ],
      "source": [
        "import shap\n",
        "\n",
        "ex = shap.Explainer(model, X_train)\n",
        "shap_values = ex(X_test)\n",
        "\n",
        "plt.title('SHAP summary for numstorepurchases', size=16)\n",
        "shap.plots.beeswarm(shap_values, max_display=5)"
      ]
    },
    {
      "cell_type": "markdown",
      "id": "bb93b33f",
      "metadata": {
        "id": "bb93b33f"
      },
      "source": [
        "### Does US fare significantly better than the Rest of the World in terms of total purchases?"
      ]
    },
    {
      "cell_type": "markdown",
      "id": "3d5f792c",
      "metadata": {
        "id": "3d5f792c"
      },
      "source": [
        "You can see below that **Spain** (SP) has the highest number of purchases\n",
        "\n",
        "**US** is second to last, therefore the US does not fare better than the rest of the world in terms of the total number of purchases"
      ]
    },
    {
      "cell_type": "code",
      "execution_count": 39,
      "id": "4d11fac4",
      "metadata": {
        "id": "4d11fac4"
      },
      "outputs": [],
      "source": [
        "def show_values(axs, orient=\"v\", space=.01):\n",
        "    def _single(ax):\n",
        "        if orient == \"v\":\n",
        "            for p in ax.patches:\n",
        "                _x = p.get_x() + p.get_width() / 2\n",
        "                _y = p.get_y() + p.get_height() + (p.get_height()*0.01)\n",
        "                value = '{:.1f}'.format(p.get_height())\n",
        "                ax.text(_x, _y, value, ha=\"center\") \n",
        "        elif orient == \"h\":\n",
        "            for p in ax.patches:\n",
        "                _x = p.get_x() + p.get_width() + float(space)\n",
        "                _y = p.get_y() + p.get_height() - (p.get_height()*0.5)\n",
        "                value = '{:.1f}'.format(p.get_width())\n",
        "                ax.text(_x, _y, value, ha=\"left\")\n",
        "\n",
        "    if isinstance(axs, np.ndarray):\n",
        "        for idx, ax in np.ndenumerate(axs):\n",
        "            _single(ax)\n",
        "    else:\n",
        "        _single(axs)"
      ]
    },
    {
      "cell_type": "code",
      "execution_count": 40,
      "id": "c48564da",
      "metadata": {
        "colab": {
          "base_uri": "https://localhost:8080/",
          "height": 295
        },
        "id": "c48564da",
        "outputId": "ac42c784-3e18-448b-f85a-e2f0a140b0f1"
      },
      "outputs": [
        {
          "output_type": "display_data",
          "data": {
            "text/plain": [
              "<Figure size 432x288 with 1 Axes>"
            ],
            "image/png": "[encoded data removed]"
          },
          "metadata": {
            "needs_background": "light"
          }
        }
      ],
      "source": [
        "df_purch_country = df.groupby('country')['total_purchases'].sum().sort_values(ascending=False).to_frame().reset_index()\n",
        "\n",
        "ax = sns.barplot(data=df_purch_country, x='country', y= 'total_purchases')\n",
        "ax.set(xlabel='Country',\n",
        "       ylabel='Number of Purchases',\n",
        "       title='Total Number of Purchases by Country')\n",
        "show_values(ax, \"v\")"
      ]
    },
    {
      "cell_type": "markdown",
      "id": "3e027ab3",
      "metadata": {
        "id": "3e027ab3"
      },
      "source": [
        "Also **Spain** (SP) has the highest total amount spent on purchases\n",
        "**US** is second to last, so again the US does not fare better than the rest of the world in terms of the total amount spent on purchases"
      ]
    },
    {
      "cell_type": "code",
      "execution_count": 41,
      "id": "39a00b71",
      "metadata": {
        "colab": {
          "base_uri": "https://localhost:8080/",
          "height": 295
        },
        "id": "39a00b71",
        "outputId": "706bbd5d-b59a-4e3a-830a-134c2e2a2b3e"
      },
      "outputs": [
        {
          "output_type": "display_data",
          "data": {
            "text/plain": [
              "<Figure size 432x288 with 1 Axes>"
            ],
            "image/png": "[encoded data removed]"
          },
          "metadata": {
            "needs_background": "light"
          }
        }
      ],
      "source": [
        "df_spent_country = df.groupby('country')['total_mnt'].sum().sort_values(ascending=False).to_frame().reset_index()\n",
        "\n",
        "ax = sns.barplot(data=df_spent_country, x='country', y='total_mnt')\n",
        "ax.set(xlabel='Country',\n",
        "       ylabel='Amount Spent',\n",
        "       title='Total Amount Spent by Country')\n",
        "show_values(ax, \"v\")"
      ]
    },
    {
      "cell_type": "markdown",
      "id": "a3d10c3d",
      "metadata": {
        "id": "a3d10c3d"
      },
      "source": [
        "### Supervisor insists that people who buy gold are more conservative. Therefore, people who spent an above average amount on gold in the last 2 years would have more in store purchases. Confirm or refute this statement using an appropriate statistical test"
      ]
    },
    {
      "cell_type": "markdown",
      "id": "df37cf44",
      "metadata": {
        "id": "df37cf44"
      },
      "source": [
        "To start let's plot relationship between amount spent on gold in the last 2 years (`mntgoldprods`) and number of in store purchases (`numstorepurchases`)\n",
        "\n",
        "There is a seen positive relationship, the next step is to study whether it is significant"
      ]
    },
    {
      "cell_type": "code",
      "execution_count": 42,
      "id": "66a43a50",
      "metadata": {
        "colab": {
          "base_uri": "https://localhost:8080/",
          "height": 369
        },
        "id": "66a43a50",
        "outputId": "48fbbe7d-b5b7-4d5f-fcfe-e37e9d41e468"
      },
      "outputs": [
        {
          "output_type": "display_data",
          "data": {
            "text/plain": [
              "<Figure size 360x360 with 1 Axes>"
            ],
            "image/png": "[encoded data removed]"
          },
          "metadata": {
            "needs_background": "light"
          }
        }
      ],
      "source": [
        "sns.lmplot(data=df, x='mntgoldprods', y='numstorepurchases')\n",
        "plt.show()"
      ]
    },
    {
      "cell_type": "markdown",
      "id": "6156c873",
      "metadata": {
        "id": "6156c873"
      },
      "source": [
        "Further Kendall correlation analysis will be performed (non-parametric test since `mntgoldproducts` is not normally distributed and contains outliers)\n",
        "\n",
        "You can see below significant positive correlation between `mntgoldprods` and `numstorepurchases`"
      ]
    },
    {
      "cell_type": "code",
      "execution_count": 43,
      "id": "7b00b909",
      "metadata": {
        "colab": {
          "base_uri": "https://localhost:8080/"
        },
        "id": "7b00b909",
        "outputId": "2821c287-1bcc-4070-9734-09b862ea72a3"
      },
      "outputs": [
        {
          "output_type": "stream",
          "name": "stdout",
          "text": [
            "Kendall correlation (tau):  0.3927160395725131\n",
            "Kendall p-value:  3.55881817905435e-152\n"
          ]
        }
      ],
      "source": [
        "from scipy.stats import kendalltau\n",
        "\n",
        "kendall_corr = kendalltau(x=df['mntgoldprods'], y=df['numstorepurchases'])\n",
        "\n",
        "print('Kendall correlation (tau): ', kendall_corr.correlation)\n",
        "print('Kendall p-value: ', kendall_corr.pvalue)"
      ]
    },
    {
      "cell_type": "markdown",
      "id": "bb63947d",
      "metadata": {
        "id": "bb63947d"
      },
      "source": [
        "### Fish has Omega 3 fatty acids which are good for the brain. Do \"Married PhD candidates\" have a significant relation with amount spent on fish?"
      ]
    },
    {
      "cell_type": "markdown",
      "id": "c1f4771f",
      "metadata": {
        "id": "c1f4771f"
      },
      "source": [
        "Let's compare `mntfishproducts` between Married PhD candidates and all other customers:\n",
        "\n",
        "Married PhD candidates spend **significantly less** on fish products compared to other customers."
      ]
    },
    {
      "cell_type": "code",
      "execution_count": 44,
      "id": "6d826257",
      "metadata": {
        "colab": {
          "base_uri": "https://localhost:8080/",
          "height": 280
        },
        "id": "6d826257",
        "outputId": "fc7ad48c-be64-4dc3-8214-4e7da7f27b4a"
      },
      "outputs": [
        {
          "output_type": "display_data",
          "data": {
            "text/plain": [
              "<Figure size 180x288 with 1 Axes>"
            ],
            "image/png": "[encoded data removed]"
          },
          "metadata": {
            "needs_background": "light"
          }
        }
      ],
      "source": [
        "# sum the marital status and phd dummy variables - the Married+PhD group will have value of 2\n",
        "df2['married_phd'] = df2['marital_status_Married'] + df2['education_PhD']\n",
        "df2['married_phd'] = df2['married_phd'].replace({2:'Married-PhD', 1:'Other', 0:'Other'})\n",
        "\n",
        "plt.figure(figsize=(2.5,4))\n",
        "sns.boxplot(data=df2, x='married_phd', y='mntfishproducts')\n",
        "plt.show()"
      ]
    },
    {
      "cell_type": "code",
      "execution_count": 45,
      "id": "1df96773",
      "metadata": {
        "colab": {
          "base_uri": "https://localhost:8080/"
        },
        "id": "1df96773",
        "outputId": "abee71ab-db0a-46aa-dfcb-4f80f08fd71c"
      },
      "outputs": [
        {
          "output_type": "stream",
          "name": "stdout",
          "text": [
            "T-test p-value:  0.005\n"
          ]
        }
      ],
      "source": [
        "# independent t-test p-value\n",
        "from scipy.stats import ttest_ind\n",
        "pval = ttest_ind(df2[df2['married_phd'] == 'Married-PhD']['mntfishproducts'], \n",
        "                 df2[df2['married_phd'] == 'Other']['mntfishproducts']).pvalue\n",
        "print(\"T-test p-value: \", round(pval, 3))"
      ]
    },
    {
      "cell_type": "code",
      "execution_count": 46,
      "id": "7dbd5c93",
      "metadata": {
        "id": "7dbd5c93"
      },
      "outputs": [],
      "source": [
        "# to include only the original variables in the analysis drop married_phd column \n",
        "df2.drop(columns='married_phd', inplace=True)"
      ]
    },
    {
      "cell_type": "markdown",
      "id": "06eccf52",
      "metadata": {
        "id": "06eccf52"
      },
      "source": [
        "### What other factors are significantly related to amount spent on fish?"
      ]
    },
    {
      "cell_type": "markdown",
      "id": "7354500c",
      "metadata": {
        "id": "7354500c"
      },
      "source": [
        "As well as with the analysis of `numstorepurchases` above, linear regression model with `mntfishproducts` as the target variable will be used, and then machine learning explainability techniques to get insights about which features predict the amount spent on fish will be applied"
      ]
    },
    {
      "cell_type": "code",
      "execution_count": 47,
      "id": "5514438d",
      "metadata": {
        "id": "5514438d"
      },
      "outputs": [],
      "source": [
        "NBR_BINS = freedman_diaconis(df['mntfishproducts'], returnas=\"bins\")"
      ]
    },
    {
      "cell_type": "code",
      "execution_count": 48,
      "id": "7be9f313",
      "metadata": {
        "colab": {
          "base_uri": "https://localhost:8080/",
          "height": 243
        },
        "id": "7be9f313",
        "outputId": "473ac3ab-eef5-436f-99aa-c237c82724b5"
      },
      "outputs": [
        {
          "output_type": "display_data",
          "data": {
            "text/plain": [
              "<Figure size 576x216 with 1 Axes>"
            ],
            "image/png": "[encoded data removed]"
          },
          "metadata": {
            "needs_background": "light"
          }
        }
      ],
      "source": [
        "# plotting the target variable\n",
        "plt.figure(figsize=(8,3))\n",
        "sns.histplot(df['mntfishproducts'], bins=NBR_BINS)\n",
        "plt.title('Mntfishproducts distribution', size=16)\n",
        "plt.ylabel('count')\n",
        "plt.show()"
      ]
    },
    {
      "cell_type": "markdown",
      "id": "6d217782",
      "metadata": {
        "id": "6d217782"
      },
      "source": [
        "Next, fit linear regression model to training data (70% of dataset) and evaluate predictions on test data (30% of dataset) using **RMSE**\n",
        "\n",
        "The RMSE is highly small compared to the mean of the target variable, showing good model predictions."
      ]
    },
    {
      "cell_type": "code",
      "execution_count": 49,
      "id": "24583f5c",
      "metadata": {
        "colab": {
          "base_uri": "https://localhost:8080/"
        },
        "id": "24583f5c",
        "outputId": "f42f409a-954f-408a-dce7-32aee8382d5a"
      },
      "outputs": [
        {
          "output_type": "stream",
          "name": "stdout",
          "text": [
            "Linear regression model RMSE:  6.87763980468997e-13\n",
            "Median value of target variable:  12.0\n"
          ]
        }
      ],
      "source": [
        "# isolate X and y variables, and perform train-test split\n",
        "X = df2.drop(columns='mntfishproducts')\n",
        "y = df2['mntfishproducts']\n",
        "\n",
        "X_train, X_test, y_train, y_test = train_test_split(X, y, \n",
        "                                                    test_size=0.3, \n",
        "                                                    random_state=1)\n",
        "\n",
        "# linear regression model\n",
        "model = LinearRegression()\n",
        "model.fit(X_train, y_train)\n",
        "\n",
        "# predictions\n",
        "preds = model.predict(X_test)\n",
        "\n",
        "# evaluate model using RMSE\n",
        "print(\"Linear regression model RMSE: \", np.sqrt(mean_squared_error(y_test, preds)))\n",
        "print(\"Median value of target variable: \", y.median())"
      ]
    },
    {
      "cell_type": "markdown",
      "id": "a14c7f10",
      "metadata": {
        "id": "a14c7f10"
      },
      "source": [
        "Let's underline features that significantly affect the amount spent on fish, using **permutation importance**:\n",
        "\n",
        "* 'total_mnt'\n",
        "* 'mntwines'\n",
        "* 'mntmeatproducts'\n",
        "* 'mntgoldprods'\n",
        "* 'mntsweetproducts'\n",
        "* 'mntfruits'\n",
        "\n",
        "Other features are not significant."
      ]
    },
    {
      "cell_type": "code",
      "execution_count": 50,
      "id": "7742c6e6",
      "metadata": {
        "colab": {
          "base_uri": "https://localhost:8080/",
          "height": 173
        },
        "id": "7742c6e6",
        "outputId": "2c55a290-609b-4c7e-bfb7-1878c342c138"
      },
      "outputs": [
        {
          "output_type": "execute_result",
          "data": {
            "text/plain": [
              "<IPython.core.display.HTML object>"
            ],
            "text/html": [
              "\n",
              "    <style>\n",
              "    table.eli5-weights tr:hover {\n",
              "        filter: brightness(85%);\n",
              "    }\n",
              "</style>\n",
              "\n",
              "\n",
              "\n",
              "    \n",
              "\n",
              "    \n",
              "\n",
              "    \n",
              "\n",
              "    \n",
              "\n",
              "    \n",
              "\n",
              "    \n",
              "\n",
              "\n",
              "    \n",
              "\n",
              "    \n",
              "\n",
              "    \n",
              "\n",
              "    \n",
              "\n",
              "    \n",
              "\n",
              "    \n",
              "\n",
              "\n",
              "    \n",
              "\n",
              "    \n",
              "\n",
              "    \n",
              "\n",
              "    \n",
              "\n",
              "    \n",
              "        <table class=\"eli5-weights eli5-feature-importances\" style=\"border-collapse: collapse; border: none; margin-top: 0em; table-layout: auto;\">\n",
              "    <thead>\n",
              "    <tr style=\"border: none;\">\n",
              "        <th style=\"padding: 0 1em 0 0.5em; text-align: right; border: none;\">Weight</th>\n",
              "        <th style=\"padding: 0 0.5em 0 0.5em; text-align: left; border: none;\">Feature</th>\n",
              "    </tr>\n",
              "    </thead>\n",
              "    <tbody>\n",
              "    \n",
              "        <tr style=\"background-color: hsl(120, 100.00%, 80.00%); border: none;\">\n",
              "            <td style=\"padding: 0 1em 0 0.5em; text-align: right; border: none;\">\n",
              "                227.8780\n",
              "                \n",
              "                    &plusmn; 18.8462\n",
              "                \n",
              "            </td>\n",
              "            <td style=\"padding: 0 0.5em 0 0.5em; text-align: left; border: none;\">\n",
              "                total_mnt\n",
              "            </td>\n",
              "        </tr>\n",
              "    \n",
              "        <tr style=\"background-color: hsl(120, 100.00%, 91.18%); border: none;\">\n",
              "            <td style=\"padding: 0 1em 0 0.5em; text-align: right; border: none;\">\n",
              "                70.7519\n",
              "                \n",
              "                    &plusmn; 3.9459\n",
              "                \n",
              "            </td>\n",
              "            <td style=\"padding: 0 0.5em 0 0.5em; text-align: left; border: none;\">\n",
              "                mntwines\n",
              "            </td>\n",
              "        </tr>\n",
              "    \n",
              "        <tr style=\"background-color: hsl(120, 100.00%, 94.74%); border: none;\">\n",
              "            <td style=\"padding: 0 1em 0 0.5em; text-align: right; border: none;\">\n",
              "                33.8252\n",
              "                \n",
              "                    &plusmn; 2.0694\n",
              "                \n",
              "            </td>\n",
              "            <td style=\"padding: 0 0.5em 0 0.5em; text-align: left; border: none;\">\n",
              "                mntmeatproducts\n",
              "            </td>\n",
              "        </tr>\n",
              "    \n",
              "        <tr style=\"background-color: hsl(120, 100.00%, 99.31%); border: none;\">\n",
              "            <td style=\"padding: 0 1em 0 0.5em; text-align: right; border: none;\">\n",
              "                1.8676\n",
              "                \n",
              "                    &plusmn; 0.0755\n",
              "                \n",
              "            </td>\n",
              "            <td style=\"padding: 0 0.5em 0 0.5em; text-align: left; border: none;\">\n",
              "                mntgoldprods\n",
              "            </td>\n",
              "        </tr>\n",
              "    \n",
              "        <tr style=\"background-color: hsl(120, 100.00%, 99.50%); border: none;\">\n",
              "            <td style=\"padding: 0 1em 0 0.5em; text-align: right; border: none;\">\n",
              "                1.1637\n",
              "                \n",
              "                    &plusmn; 0.0601\n",
              "                \n",
              "            </td>\n",
              "            <td style=\"padding: 0 0.5em 0 0.5em; text-align: left; border: none;\">\n",
              "                mntsweetproducts\n",
              "            </td>\n",
              "        </tr>\n",
              "    \n",
              "        <tr style=\"background-color: hsl(120, 100.00%, 99.54%); border: none;\">\n",
              "            <td style=\"padding: 0 1em 0 0.5em; text-align: right; border: none;\">\n",
              "                1.0509\n",
              "                \n",
              "                    &plusmn; 0.0710\n",
              "                \n",
              "            </td>\n",
              "            <td style=\"padding: 0 0.5em 0 0.5em; text-align: left; border: none;\">\n",
              "                mntfruits\n",
              "            </td>\n",
              "        </tr>\n",
              "    \n",
              "        <tr style=\"background-color: hsl(0, 100.00%, 100.00%); border: none;\">\n",
              "            <td style=\"padding: 0 1em 0 0.5em; text-align: right; border: none;\">\n",
              "                0\n",
              "                \n",
              "                    &plusmn; 0.0000\n",
              "                \n",
              "            </td>\n",
              "            <td style=\"padding: 0 0.5em 0 0.5em; text-align: left; border: none;\">\n",
              "                country_IND\n",
              "            </td>\n",
              "        </tr>\n",
              "    \n",
              "    \n",
              "        \n",
              "            <tr style=\"background-color: hsl(0, 100.00%, 100.00%); border: none;\">\n",
              "                <td colspan=\"2\" style=\"padding: 0 0.5em 0 0.5em; text-align: center; border: none; white-space: nowrap;\">\n",
              "                    <i>&hellip; 41 more &hellip;</i>\n",
              "                </td>\n",
              "            </tr>\n",
              "        \n",
              "    \n",
              "    </tbody>\n",
              "</table>\n",
              "    \n",
              "\n",
              "    \n",
              "\n",
              "\n",
              "    \n",
              "\n",
              "    \n",
              "\n",
              "    \n",
              "\n",
              "    \n",
              "\n",
              "    \n",
              "\n",
              "    \n",
              "\n",
              "\n",
              "\n"
            ]
          },
          "metadata": {},
          "execution_count": 50
        }
      ],
      "source": [
        "perm = PermutationImportance(model, random_state=1).fit(X_test, y_test)\n",
        "eli5.show_weights(perm, feature_names = X_test.columns.tolist(), top=7)"
      ]
    },
    {
      "cell_type": "markdown",
      "id": "f9bef8d6",
      "metadata": {
        "id": "f9bef8d6"
      },
      "source": [
        "Next, let's explore the directionality of these effects, using SHAP values\n",
        "\n",
        "* The amount spent on fish **increases** with higher total amount spent (`total_mnt`)\n",
        "* The amount spent on fish **decreases** with higher amounts spent on wine, meat, gold, fruit, or sweets (`mntwines`, `mntmeatproducts`, `mntgoldprods`, `mntsweetproducts`, `mntfruits`)\n",
        "\n",
        "As a conculsion - customers who spend the most on fish are those who spend less on other products (wine, meat, gold, fruit, and sweets)"
      ]
    },
    {
      "cell_type": "code",
      "execution_count": 51,
      "id": "a6c2c0dc",
      "metadata": {
        "colab": {
          "base_uri": "https://localhost:8080/",
          "height": 317
        },
        "id": "a6c2c0dc",
        "outputId": "05a48893-ea57-4f4d-9653-a6f051328ae7"
      },
      "outputs": [
        {
          "output_type": "display_data",
          "data": {
            "text/plain": [
              "<Figure size 576x309.6 with 2 Axes>"
            ],
            "image/png": "[encoded data removed]"
          },
          "metadata": {
            "needs_background": "light"
          }
        }
      ],
      "source": [
        "# calculate shap values \n",
        "ex = shap.Explainer(model, X_train)\n",
        "shap_values = ex(X_test)\n",
        "\n",
        "plt.title('SHAP summary for mntfishproducts', size=16)\n",
        "shap.plots.beeswarm(shap_values, max_display=7);"
      ]
    },
    {
      "cell_type": "markdown",
      "id": "665b75d6",
      "metadata": {
        "id": "665b75d6"
      },
      "source": [
        "### Are there any significant correlations between geographical regions and success of campaigns?"
      ]
    },
    {
      "cell_type": "markdown",
      "id": "1cea8ef6",
      "metadata": {
        "id": "1cea8ef6"
      },
      "source": [
        "The campaign's acceptance rates are low overall\n",
        "\n",
        "The campaign with the highest overall acceptance rate is the most **recent campaign** (`response`)\n",
        "\n",
        "The country with the highest acceptance rate in any campaign is **Mexico**"
      ]
    },
    {
      "cell_type": "code",
      "execution_count": 52,
      "id": "620aa119",
      "metadata": {
        "colab": {
          "base_uri": "https://localhost:8080/",
          "height": 542
        },
        "id": "620aa119",
        "outputId": "fccff8b4-f72d-442e-91d6-8c8976894bf4"
      },
      "outputs": [
        {
          "output_type": "display_data",
          "data": {
            "text/html": [
              "<html>\n",
              "<head><meta charset=\"utf-8\" /></head>\n",
              "<body>\n",
              "    <div>            <script src=\"https://cdnjs.cloudflare.com/ajax/libs/mathjax/2.7.5/MathJax.js?config=TeX-AMS-MML_SVG\"></script><script type=\"text/javascript\">if (window.MathJax) {MathJax.Hub.Config({SVG: {font: \"STIX-Web\"}});}</script>                <script type=\"text/javascript\">window.PlotlyConfig = {MathJaxConfig: 'local'};</script>\n",
              "        <script src=\"https://cdn.plot.ly/plotly-2.8.3.min.js\"></script>                <div id=\"0c6dc876-dcce-4282-8068-b400b1511545\" class=\"plotly-graph-div\" style=\"height:525px; width:700px;\"></div>            <script type=\"text/javascript\">                                    window.PLOTLYENV=window.PLOTLYENV || {};                                    if (document.getElementById(\"0c6dc876-dcce-4282-8068-b400b1511545\")) {                    Plotly.newPlot(                        \"0c6dc876-dcce-4282-8068-b400b1511545\",                        [{\"coloraxis\":\"coloraxis\",\"geo\":\"geo5\",\"hovertemplate\":\"campaign=1<br>country_code=%{location}<br>accepted(%)=%{z}<extra></extra>\",\"locationmode\":\"ISO-3\",\"locations\":[\"AUS\",\"CAN\",\"ESP\",\"GER\",\"IND\",\"MEX\",\"USA\",\"ZAF\"],\"name\":\"\",\"z\":[4.375,6.7164179104477615,7.129798903107861,5.833333333333333,4.761904761904762,0.0,6.422018348623854,5.952380952380952],\"type\":\"choropleth\"},{\"coloraxis\":\"coloraxis\",\"geo\":\"geo6\",\"hovertemplate\":\"campaign=2<br>country_code=%{location}<br>accepted(%)=%{z}<extra></extra>\",\"locationmode\":\"ISO-3\",\"locations\":[\"AUS\",\"CAN\",\"ESP\",\"GER\",\"IND\",\"MEX\",\"USA\",\"ZAF\"],\"name\":\"\",\"z\":[0.0,2.2388059701492535,1.4625228519195612,1.6666666666666667,1.3605442176870748,0.0,0.0,1.1904761904761905],\"type\":\"choropleth\"},{\"coloraxis\":\"coloraxis\",\"geo\":\"geo3\",\"hovertemplate\":\"campaign=3<br>country_code=%{location}<br>accepted(%)=%{z}<extra></extra>\",\"locationmode\":\"ISO-3\",\"locations\":[\"AUS\",\"CAN\",\"ESP\",\"GER\",\"IND\",\"MEX\",\"USA\",\"ZAF\"],\"name\":\"\",\"z\":[5.625,6.7164179104477615,7.586837294332724,8.333333333333332,8.843537414965986,33.33333333333333,7.339449541284404,6.25],\"type\":\"choropleth\"},{\"coloraxis\":\"coloraxis\",\"geo\":\"geo4\",\"hovertemplate\":\"campaign=4<br>country_code=%{location}<br>accepted(%)=%{z}<extra></extra>\",\"locationmode\":\"ISO-3\",\"locations\":[\"AUS\",\"CAN\",\"ESP\",\"GER\",\"IND\",\"MEX\",\"USA\",\"ZAF\"],\"name\":\"\",\"z\":[3.75,8.955223880597014,8.135283363802559,9.166666666666666,7.482993197278912,0.0,5.5045871559633035,5.952380952380952],\"type\":\"choropleth\"},{\"coloraxis\":\"coloraxis\",\"geo\":\"geo\",\"hovertemplate\":\"campaign=5<br>country_code=%{location}<br>accepted(%)=%{z}<extra></extra>\",\"locationmode\":\"ISO-3\",\"locations\":[\"AUS\",\"CAN\",\"ESP\",\"GER\",\"IND\",\"MEX\",\"USA\",\"ZAF\"],\"name\":\"\",\"z\":[8.125,7.835820895522389,8.043875685557587,6.666666666666667,4.081632653061225,0.0,4.587155963302752,6.25],\"type\":\"choropleth\"},{\"coloraxis\":\"coloraxis\",\"geo\":\"geo2\",\"hovertemplate\":\"campaign=recent<br>country_code=%{location}<br>accepted(%)=%{z}<extra></extra>\",\"locationmode\":\"ISO-3\",\"locations\":[\"AUS\",\"CAN\",\"ESP\",\"GER\",\"IND\",\"MEX\",\"USA\",\"ZAF\"],\"name\":\"\",\"z\":[14.374999999999998,14.17910447761194,16.087751371115175,14.166666666666666,8.843537414965986,66.66666666666666,11.926605504587156,15.476190476190476],\"type\":\"choropleth\"}],                        {\"template\":{\"data\":{\"bar\":[{\"error_x\":{\"color\":\"#2a3f5f\"},\"error_y\":{\"color\":\"#2a3f5f\"},\"marker\":{\"line\":{\"color\":\"#E5ECF6\",\"width\":0.5},\"pattern\":{\"fillmode\":\"overlay\",\"size\":10,\"solidity\":0.2}},\"type\":\"bar\"}],\"barpolar\":[{\"marker\":{\"line\":{\"color\":\"#E5ECF6\",\"width\":0.5},\"pattern\":{\"fillmode\":\"overlay\",\"size\":10,\"solidity\":0.2}},\"type\":\"barpolar\"}],\"carpet\":[{\"aaxis\":{\"endlinecolor\":\"#2a3f5f\",\"gridcolor\":\"white\",\"linecolor\":\"white\",\"minorgridcolor\":\"white\",\"startlinecolor\":\"#2a3f5f\"},\"baxis\":{\"endlinecolor\":\"#2a3f5f\",\"gridcolor\":\"white\",\"linecolor\":\"white\",\"minorgridcolor\":\"white\",\"startlinecolor\":\"#2a3f5f\"},\"type\":\"carpet\"}],\"choropleth\":[{\"colorbar\":{\"outlinewidth\":0,\"ticks\":\"\"},\"type\":\"choropleth\"}],\"contour\":[{\"colorbar\":{\"outlinewidth\":0,\"ticks\":\"\"},\"colorscale\":[[0.0,\"#0d0887\"],[0.1111111111111111,\"#46039f\"],[0.2222222222222222,\"#7201a8\"],[0.3333333333333333,\"#9c179e\"],[0.4444444444444444,\"#bd3786\"],[0.5555555555555556,\"#d8576b\"],[0.6666666666666666,\"#ed7953\"],[0.7777777777777778,\"#fb9f3a\"],[0.8888888888888888,\"#fdca26\"],[1.0,\"#f0f921\"]],\"type\":\"contour\"}],\"contourcarpet\":[{\"colorbar\":{\"outlinewidth\":0,\"ticks\":\"\"},\"type\":\"contourcarpet\"}],\"heatmap\":[{\"colorbar\":{\"outlinewidth\":0,\"ticks\":\"\"},\"colorscale\":[[0.0,\"#0d0887\"],[0.1111111111111111,\"#46039f\"],[0.2222222222222222,\"#7201a8\"],[0.3333333333333333,\"#9c179e\"],[0.4444444444444444,\"#bd3786\"],[0.5555555555555556,\"#d8576b\"],[0.6666666666666666,\"#ed7953\"],[0.7777777777777778,\"#fb9f3a\"],[0.8888888888888888,\"#fdca26\"],[1.0,\"#f0f921\"]],\"type\":\"heatmap\"}],\"heatmapgl\":[{\"colorbar\":{\"outlinewidth\":0,\"ticks\":\"\"},\"colorscale\":[[0.0,\"#0d0887\"],[0.1111111111111111,\"#46039f\"],[0.2222222222222222,\"#7201a8\"],[0.3333333333333333,\"#9c179e\"],[0.4444444444444444,\"#bd3786\"],[0.5555555555555556,\"#d8576b\"],[0.6666666666666666,\"#ed7953\"],[0.7777777777777778,\"#fb9f3a\"],[0.8888888888888888,\"#fdca26\"],[1.0,\"#f0f921\"]],\"type\":\"heatmapgl\"}],\"histogram\":[{\"marker\":{\"pattern\":{\"fillmode\":\"overlay\",\"size\":10,\"solidity\":0.2}},\"type\":\"histogram\"}],\"histogram2d\":[{\"colorbar\":{\"outlinewidth\":0,\"ticks\":\"\"},\"colorscale\":[[0.0,\"#0d0887\"],[0.1111111111111111,\"#46039f\"],[0.2222222222222222,\"#7201a8\"],[0.3333333333333333,\"#9c179e\"],[0.4444444444444444,\"#bd3786\"],[0.5555555555555556,\"#d8576b\"],[0.6666666666666666,\"#ed7953\"],[0.7777777777777778,\"#fb9f3a\"],[0.8888888888888888,\"#fdca26\"],[1.0,\"#f0f921\"]],\"type\":\"histogram2d\"}],\"histogram2dcontour\":[{\"colorbar\":{\"outlinewidth\":0,\"ticks\":\"\"},\"colorscale\":[[0.0,\"#0d0887\"],[0.1111111111111111,\"#46039f\"],[0.2222222222222222,\"#7201a8\"],[0.3333333333333333,\"#9c179e\"],[0.4444444444444444,\"#bd3786\"],[0.5555555555555556,\"#d8576b\"],[0.6666666666666666,\"#ed7953\"],[0.7777777777777778,\"#fb9f3a\"],[0.8888888888888888,\"#fdca26\"],[1.0,\"#f0f921\"]],\"type\":\"histogram2dcontour\"}],\"mesh3d\":[{\"colorbar\":{\"outlinewidth\":0,\"ticks\":\"\"},\"type\":\"mesh3d\"}],\"parcoords\":[{\"line\":{\"colorbar\":{\"outlinewidth\":0,\"ticks\":\"\"}},\"type\":\"parcoords\"}],\"pie\":[{\"automargin\":true,\"type\":\"pie\"}],\"scatter\":[{\"marker\":{\"colorbar\":{\"outlinewidth\":0,\"ticks\":\"\"}},\"type\":\"scatter\"}],\"scatter3d\":[{\"line\":{\"colorbar\":{\"outlinewidth\":0,\"ticks\":\"\"}},\"marker\":{\"colorbar\":{\"outlinewidth\":0,\"ticks\":\"\"}},\"type\":\"scatter3d\"}],\"scattercarpet\":[{\"marker\":{\"colorbar\":{\"outlinewidth\":0,\"ticks\":\"\"}},\"type\":\"scattercarpet\"}],\"scattergeo\":[{\"marker\":{\"colorbar\":{\"outlinewidth\":0,\"ticks\":\"\"}},\"type\":\"scattergeo\"}],\"scattergl\":[{\"marker\":{\"colorbar\":{\"outlinewidth\":0,\"ticks\":\"\"}},\"type\":\"scattergl\"}],\"scattermapbox\":[{\"marker\":{\"colorbar\":{\"outlinewidth\":0,\"ticks\":\"\"}},\"type\":\"scattermapbox\"}],\"scatterpolar\":[{\"marker\":{\"colorbar\":{\"outlinewidth\":0,\"ticks\":\"\"}},\"type\":\"scatterpolar\"}],\"scatterpolargl\":[{\"marker\":{\"colorbar\":{\"outlinewidth\":0,\"ticks\":\"\"}},\"type\":\"scatterpolargl\"}],\"scatterternary\":[{\"marker\":{\"colorbar\":{\"outlinewidth\":0,\"ticks\":\"\"}},\"type\":\"scatterternary\"}],\"surface\":[{\"colorbar\":{\"outlinewidth\":0,\"ticks\":\"\"},\"colorscale\":[[0.0,\"#0d0887\"],[0.1111111111111111,\"#46039f\"],[0.2222222222222222,\"#7201a8\"],[0.3333333333333333,\"#9c179e\"],[0.4444444444444444,\"#bd3786\"],[0.5555555555555556,\"#d8576b\"],[0.6666666666666666,\"#ed7953\"],[0.7777777777777778,\"#fb9f3a\"],[0.8888888888888888,\"#fdca26\"],[1.0,\"#f0f921\"]],\"type\":\"surface\"}],\"table\":[{\"cells\":{\"fill\":{\"color\":\"#EBF0F8\"},\"line\":{\"color\":\"white\"}},\"header\":{\"fill\":{\"color\":\"#C8D4E3\"},\"line\":{\"color\":\"white\"}},\"type\":\"table\"}]},\"layout\":{\"annotationdefaults\":{\"arrowcolor\":\"#2a3f5f\",\"arrowhead\":0,\"arrowwidth\":1},\"autotypenumbers\":\"strict\",\"coloraxis\":{\"colorbar\":{\"outlinewidth\":0,\"ticks\":\"\"}},\"colorscale\":{\"diverging\":[[0,\"#8e0152\"],[0.1,\"#c51b7d\"],[0.2,\"#de77ae\"],[0.3,\"#f1b6da\"],[0.4,\"#fde0ef\"],[0.5,\"#f7f7f7\"],[0.6,\"#e6f5d0\"],[0.7,\"#b8e186\"],[0.8,\"#7fbc41\"],[0.9,\"#4d9221\"],[1,\"#276419\"]],\"sequential\":[[0.0,\"#0d0887\"],[0.1111111111111111,\"#46039f\"],[0.2222222222222222,\"#7201a8\"],[0.3333333333333333,\"#9c179e\"],[0.4444444444444444,\"#bd3786\"],[0.5555555555555556,\"#d8576b\"],[0.6666666666666666,\"#ed7953\"],[0.7777777777777778,\"#fb9f3a\"],[0.8888888888888888,\"#fdca26\"],[1.0,\"#f0f921\"]],\"sequentialminus\":[[0.0,\"#0d0887\"],[0.1111111111111111,\"#46039f\"],[0.2222222222222222,\"#7201a8\"],[0.3333333333333333,\"#9c179e\"],[0.4444444444444444,\"#bd3786\"],[0.5555555555555556,\"#d8576b\"],[0.6666666666666666,\"#ed7953\"],[0.7777777777777778,\"#fb9f3a\"],[0.8888888888888888,\"#fdca26\"],[1.0,\"#f0f921\"]]},\"colorway\":[\"#636efa\",\"#EF553B\",\"#00cc96\",\"#ab63fa\",\"#FFA15A\",\"#19d3f3\",\"#FF6692\",\"#B6E880\",\"#FF97FF\",\"#FECB52\"],\"font\":{\"color\":\"#2a3f5f\"},\"geo\":{\"bgcolor\":\"white\",\"lakecolor\":\"white\",\"landcolor\":\"#E5ECF6\",\"showlakes\":true,\"showland\":true,\"subunitcolor\":\"white\"},\"hoverlabel\":{\"align\":\"left\"},\"hovermode\":\"closest\",\"mapbox\":{\"style\":\"light\"},\"paper_bgcolor\":\"white\",\"plot_bgcolor\":\"#E5ECF6\",\"polar\":{\"angularaxis\":{\"gridcolor\":\"white\",\"linecolor\":\"white\",\"ticks\":\"\"},\"bgcolor\":\"#E5ECF6\",\"radialaxis\":{\"gridcolor\":\"white\",\"linecolor\":\"white\",\"ticks\":\"\"}},\"scene\":{\"xaxis\":{\"backgroundcolor\":\"#E5ECF6\",\"gridcolor\":\"white\",\"gridwidth\":2,\"linecolor\":\"white\",\"showbackground\":true,\"ticks\":\"\",\"zerolinecolor\":\"white\"},\"yaxis\":{\"backgroundcolor\":\"#E5ECF6\",\"gridcolor\":\"white\",\"gridwidth\":2,\"linecolor\":\"white\",\"showbackground\":true,\"ticks\":\"\",\"zerolinecolor\":\"white\"},\"zaxis\":{\"backgroundcolor\":\"#E5ECF6\",\"gridcolor\":\"white\",\"gridwidth\":2,\"linecolor\":\"white\",\"showbackground\":true,\"ticks\":\"\",\"zerolinecolor\":\"white\"}},\"shapedefaults\":{\"line\":{\"color\":\"#2a3f5f\"}},\"ternary\":{\"aaxis\":{\"gridcolor\":\"white\",\"linecolor\":\"white\",\"ticks\":\"\"},\"baxis\":{\"gridcolor\":\"white\",\"linecolor\":\"white\",\"ticks\":\"\"},\"bgcolor\":\"#E5ECF6\",\"caxis\":{\"gridcolor\":\"white\",\"linecolor\":\"white\",\"ticks\":\"\"}},\"title\":{\"x\":0.05},\"xaxis\":{\"automargin\":true,\"gridcolor\":\"white\",\"linecolor\":\"white\",\"ticks\":\"\",\"title\":{\"standoff\":15},\"zerolinecolor\":\"white\",\"zerolinewidth\":2},\"yaxis\":{\"automargin\":true,\"gridcolor\":\"white\",\"linecolor\":\"white\",\"ticks\":\"\",\"title\":{\"standoff\":15},\"zerolinecolor\":\"white\",\"zerolinewidth\":2}}},\"geo\":{\"domain\":{\"x\":[0.0,0.495],\"y\":[0.0,0.3]},\"projection\":{\"type\":\"natural earth\"},\"center\":{}},\"geo2\":{\"domain\":{\"x\":[0.505,1.0],\"y\":[0.0,0.3]},\"projection\":{\"type\":\"natural earth\"},\"center\":{}},\"geo3\":{\"domain\":{\"x\":[0.0,0.495],\"y\":[0.35,0.6499999999999999]},\"projection\":{\"type\":\"natural earth\"},\"center\":{}},\"geo4\":{\"domain\":{\"x\":[0.505,1.0],\"y\":[0.35,0.6499999999999999]},\"projection\":{\"type\":\"natural earth\"},\"center\":{}},\"geo5\":{\"domain\":{\"x\":[0.0,0.495],\"y\":[0.7,1.0]},\"projection\":{\"type\":\"natural earth\"},\"center\":{}},\"geo6\":{\"domain\":{\"x\":[0.505,1.0],\"y\":[0.7,1.0]},\"projection\":{\"type\":\"natural earth\"},\"center\":{}},\"annotations\":[{\"font\":{},\"showarrow\":false,\"text\":\"campaign=5\",\"x\":0.2475,\"xanchor\":\"center\",\"xref\":\"paper\",\"y\":0.3,\"yanchor\":\"bottom\",\"yref\":\"paper\"},{\"font\":{},\"showarrow\":false,\"text\":\"campaign=recent\",\"x\":0.7525,\"xanchor\":\"center\",\"xref\":\"paper\",\"y\":0.3,\"yanchor\":\"bottom\",\"yref\":\"paper\"},{\"font\":{},\"showarrow\":false,\"text\":\"campaign=3\",\"x\":0.2475,\"xanchor\":\"center\",\"xref\":\"paper\",\"y\":0.6499999999999999,\"yanchor\":\"bottom\",\"yref\":\"paper\"},{\"font\":{},\"showarrow\":false,\"text\":\"campaign=4\",\"x\":0.7525,\"xanchor\":\"center\",\"xref\":\"paper\",\"y\":0.6499999999999999,\"yanchor\":\"bottom\",\"yref\":\"paper\"},{\"font\":{},\"showarrow\":false,\"text\":\"campaign=1\",\"x\":0.2475,\"xanchor\":\"center\",\"xref\":\"paper\",\"y\":1.0,\"yanchor\":\"bottom\",\"yref\":\"paper\"},{\"font\":{},\"showarrow\":false,\"text\":\"campaign=2\",\"x\":0.7525,\"xanchor\":\"center\",\"xref\":\"paper\",\"y\":1.0,\"yanchor\":\"bottom\",\"yref\":\"paper\"}],\"coloraxis\":{\"colorbar\":{\"title\":{\"text\":\"accepted(%)\"}},\"colorscale\":[[0.0,\"#0d0887\"],[0.1111111111111111,\"#46039f\"],[0.2222222222222222,\"#7201a8\"],[0.3333333333333333,\"#9c179e\"],[0.4444444444444444,\"#bd3786\"],[0.5555555555555556,\"#d8576b\"],[0.6666666666666666,\"#ed7953\"],[0.7777777777777778,\"#fb9f3a\"],[0.8888888888888888,\"#fdca26\"],[1.0,\"#f0f921\"]]},\"legend\":{\"tracegroupgap\":0},\"title\":{\"text\":\"Advertising Campaign Success Rate by Country\"},\"width\":700},                        {\"responsive\": true}                    ).then(function(){\n",
              "                            \n",
              "var gd = document.getElementById('0c6dc876-dcce-4282-8068-b400b1511545');\n",
              "var x = new MutationObserver(function (mutations, observer) {{\n",
              "        var display = window.getComputedStyle(gd).display;\n",
              "        if (!display || display === 'none') {{\n",
              "            console.log([gd, 'removed!']);\n",
              "            Plotly.purge(gd);\n",
              "            observer.disconnect();\n",
              "        }}\n",
              "}});\n",
              "\n",
              "// Listen for the removal of the full notebook cells\n",
              "var notebookContainer = gd.closest('#notebook-container');\n",
              "if (notebookContainer) {{\n",
              "    x.observe(notebookContainer, {childList: true});\n",
              "}}\n",
              "\n",
              "// Listen for the clearing of the current output cell\n",
              "var outputEl = gd.closest('.output');\n",
              "if (outputEl) {{\n",
              "    x.observe(outputEl, {childList: true});\n",
              "}}\n",
              "\n",
              "                        })                };                            </script>        </div>\n",
              "</body>\n",
              "</html>"
            ]
          },
          "metadata": {}
        }
      ],
      "source": [
        "df['country_code'] = df['country'].replace({'SP': 'ESP', \n",
        "                                            'CA': 'CAN', \n",
        "                                            'US': 'USA', \n",
        "                                            'SA': 'ZAF', \n",
        "                                            'ME': 'MEX'})\n",
        "\n",
        "# success of campaigns by country code\n",
        "df_cam = df[['country_code', 'acceptedcmp1', \n",
        "             'acceptedcmp2', 'acceptedcmp3', \n",
        "             'acceptedcmp4', 'acceptedcmp5', \n",
        "             'response']].melt(\n",
        "                id_vars='country_code', \n",
        "                var_name='campaign', \n",
        "                value_name='accepted(%)')\n",
        "\n",
        "df_cam = pd.DataFrame(df_cam.groupby(['country_code', \n",
        "                                      'campaign'])['accepted(%)'].mean() * 100).reset_index(drop=False)\n",
        "\n",
        "# rename the campaign variables\n",
        "df_cam['campaign'] = df_cam['campaign'].replace({'acceptedcmp1': '1',\n",
        "                                                'acceptedcmp2': '2',\n",
        "                                                'acceptedcmp3': '3',\n",
        "                                                'acceptedcmp4': '4',\n",
        "                                                'acceptedcmp5': '5',\n",
        "                                                 'response': 'recent'\n",
        "                                                })\n",
        "\n",
        "fig = px.choropleth(df_cam, locationmode='ISO-3', color='accepted(%)', \n",
        "                    facet_col='campaign', facet_col_wrap=2,\n",
        "                    facet_row_spacing=0.05, facet_col_spacing=0.01, \n",
        "                    width=700, locations='country_code', \n",
        "                    projection='natural earth', \n",
        "                    title='Advertising Campaign Success Rate by Country'\n",
        "                   )\n",
        "fig.show()"
      ]
    },
    {
      "cell_type": "markdown",
      "id": "2fcfc6f5",
      "metadata": {
        "id": "2fcfc6f5"
      },
      "source": [
        "Let's calculate statistical summary of regional effects on campaign success.\n",
        "\n",
        "To do that logistic regression for campaign accepted by country will be proviede, reporting Chisq p-value for overall model.\n",
        "\n",
        "As the result we can say, that the regional differences in advertising campaign success are statistically significant."
      ]
    },
    {
      "cell_type": "code",
      "execution_count": 53,
      "id": "0ea738a3",
      "metadata": {
        "colab": {
          "base_uri": "https://localhost:8080/"
        },
        "id": "0ea738a3",
        "outputId": "c5c84529-415f-41b7-d202-20d964a5a8b2"
      },
      "outputs": [
        {
          "output_type": "stream",
          "name": "stdout",
          "text": [
            "                 Generalized Linear Model Regression Results                  \n",
            "==============================================================================\n",
            "Dep. Variable:           acceptedcmp1   No. Observations:                 2237\n",
            "Model:                            GLM   Df Residuals:                     2229\n",
            "Model Family:                Binomial   Df Model:                            7\n",
            "Link Function:                  logit   Scale:                          1.0000\n",
            "Method:                          IRLS   Log-Likelihood:                -532.52\n",
            "Date:                Fri, 24 Feb 2023   Deviance:                       1065.0\n",
            "Time:                        10:01:11   Pearson chi2:                 2.23e+03\n",
            "No. Iterations:                    20                                         \n",
            "Covariance Type:            nonrobust                                         \n",
            "==================================================================================\n",
            "                     coef    std err          z      P>|z|      [0.025      0.975]\n",
            "----------------------------------------------------------------------------------\n",
            "Intercept         -3.0845      0.387     -7.980      0.000      -3.842      -2.327\n",
            "country[T.CA]      0.4534      0.457      0.992      0.321      -0.442       1.349\n",
            "country[T.GER]     0.3031      0.549      0.552      0.581      -0.772       1.379\n",
            "country[T.IND]     0.0888      0.547      0.162      0.871      -0.984       1.161\n",
            "country[T.ME]    -18.4815   1.69e+04     -0.001      0.999   -3.31e+04    3.31e+04\n",
            "country[T.SA]      0.3245      0.450      0.721      0.471      -0.558       1.207\n",
            "country[T.SP]      0.5176      0.404      1.281      0.200      -0.274       1.309\n",
            "country[T.US]      0.4055      0.550      0.738      0.461      -0.672       1.483\n",
            "==================================================================================\n",
            "                 Generalized Linear Model Regression Results                  \n",
            "==============================================================================\n",
            "Dep. Variable:           acceptedcmp2   No. Observations:                 2237\n",
            "Model:                            GLM   Df Residuals:                     2229\n",
            "Model Family:                Binomial   Df Model:                            7\n",
            "Link Function:                  logit   Scale:                          1.0000\n",
            "Method:                          IRLS   Log-Likelihood:                -154.66\n",
            "Date:                Fri, 24 Feb 2023   Deviance:                       309.32\n",
            "Time:                        10:01:12   Pearson chi2:                 1.97e+03\n",
            "No. Iterations:                    24                                         \n",
            "Covariance Type:            nonrobust                                         \n",
            "==================================================================================\n",
            "                     coef    std err          z      P>|z|      [0.025      0.975]\n",
            "----------------------------------------------------------------------------------\n",
            "Intercept        -25.5661   1.71e+04     -0.001      0.999   -3.35e+04    3.34e+04\n",
            "country[T.CA]     21.7895   1.71e+04      0.001      0.999   -3.34e+04    3.35e+04\n",
            "country[T.GER]    21.4885   1.71e+04      0.001      0.999   -3.34e+04    3.35e+04\n",
            "country[T.IND]    21.2825   1.71e+04      0.001      0.999   -3.34e+04    3.35e+04\n",
            "country[T.ME]  -7.242e-06   1.26e+05  -5.75e-11      1.000   -2.47e+05    2.47e+05\n",
            "country[T.SA]     21.1472   1.71e+04      0.001      0.999   -3.34e+04    3.35e+04\n",
            "country[T.SP]     21.3558   1.71e+04      0.001      0.999   -3.34e+04    3.35e+04\n",
            "country[T.US]  -7.245e-06   2.68e+04   -2.7e-10      1.000   -5.26e+04    5.26e+04\n",
            "==================================================================================\n",
            "                 Generalized Linear Model Regression Results                  \n",
            "==============================================================================\n",
            "Dep. Variable:           acceptedcmp3   No. Observations:                 2237\n",
            "Model:                            GLM   Df Residuals:                     2229\n",
            "Model Family:                Binomial   Df Model:                            7\n",
            "Link Function:                  logit   Scale:                          1.0000\n",
            "Method:                          IRLS   Log-Likelihood:                -581.86\n",
            "Date:                Fri, 24 Feb 2023   Deviance:                       1163.7\n",
            "Time:                        10:01:12   Pearson chi2:                 2.24e+03\n",
            "No. Iterations:                     6                                         \n",
            "Covariance Type:            nonrobust                                         \n",
            "==================================================================================\n",
            "                     coef    std err          z      P>|z|      [0.025      0.975]\n",
            "----------------------------------------------------------------------------------\n",
            "Intercept         -2.8201      0.343     -8.219      0.000      -3.493      -2.148\n",
            "country[T.CA]      0.1890      0.421      0.449      0.654      -0.636       1.014\n",
            "country[T.GER]     0.4222      0.476      0.886      0.375      -0.511       1.356\n",
            "country[T.IND]     0.4872      0.450      1.084      0.279      -0.394       1.368\n",
            "country[T.ME]      2.1269      1.272      1.672      0.094      -0.366       4.620\n",
            "country[T.SA]      0.1120      0.411      0.273      0.785      -0.693       0.917\n",
            "country[T.SP]      0.3202      0.362      0.885      0.376      -0.389       1.029\n",
            "country[T.US]      0.2844      0.503      0.566      0.572      -0.701       1.270\n",
            "==================================================================================\n",
            "                 Generalized Linear Model Regression Results                  \n",
            "==============================================================================\n",
            "Dep. Variable:           acceptedcmp4   No. Observations:                 2237\n",
            "Model:                            GLM   Df Residuals:                     2229\n",
            "Model Family:                Binomial   Df Model:                            7\n",
            "Link Function:                  logit   Scale:                          1.0000\n",
            "Method:                          IRLS   Log-Likelihood:                -589.87\n",
            "Date:                Fri, 24 Feb 2023   Deviance:                       1179.7\n",
            "Time:                        10:01:12   Pearson chi2:                 2.23e+03\n",
            "No. Iterations:                    20                                         \n",
            "Covariance Type:            nonrobust                                         \n",
            "==================================================================================\n",
            "                     coef    std err          z      P>|z|      [0.025      0.975]\n",
            "----------------------------------------------------------------------------------\n",
            "Intercept         -3.2452      0.416     -7.799      0.000      -4.061      -2.430\n",
            "country[T.CA]      0.9261      0.468      1.979      0.048       0.009       1.843\n",
            "country[T.GER]     0.9517      0.523      1.821      0.069      -0.073       1.976\n",
            "country[T.IND]     0.7304      0.521      1.402      0.161      -0.291       1.752\n",
            "country[T.ME]    -18.3209   1.69e+04     -0.001      0.999   -3.31e+04    3.31e+04\n",
            "country[T.SA]      0.4852      0.476      1.020      0.308      -0.447       1.418\n",
            "country[T.SP]      0.8211      0.431      1.907      0.057      -0.023       1.665\n",
            "country[T.US]      0.4022      0.591      0.680      0.496      -0.757       1.561\n",
            "==================================================================================\n",
            "                 Generalized Linear Model Regression Results                  \n",
            "==============================================================================\n",
            "Dep. Variable:           acceptedcmp5   No. Observations:                 2237\n",
            "Model:                            GLM   Df Residuals:                     2229\n",
            "Model Family:                Binomial   Df Model:                            7\n",
            "Link Function:                  logit   Scale:                          1.0000\n",
            "Method:                          IRLS   Log-Likelihood:                -578.17\n",
            "Date:                Fri, 24 Feb 2023   Deviance:                       1156.3\n",
            "Time:                        10:01:12   Pearson chi2:                 2.23e+03\n",
            "No. Iterations:                    20                                         \n",
            "Covariance Type:            nonrobust                                         \n",
            "==================================================================================\n",
            "                     coef    std err          z      P>|z|      [0.025      0.975]\n",
            "----------------------------------------------------------------------------------\n",
            "Intercept         -2.4255      0.289     -8.382      0.000      -2.993      -1.858\n",
            "country[T.CA]     -0.0394      0.368     -0.107      0.915      -0.761       0.682\n",
            "country[T.GER]    -0.2136      0.467     -0.458      0.647      -1.128       0.701\n",
            "country[T.IND]    -0.7315      0.507     -1.442      0.149      -1.726       0.263\n",
            "country[T.ME]    -19.1406   1.69e+04     -0.001      0.999   -3.31e+04    3.31e+04\n",
            "country[T.SA]     -0.2826      0.367     -0.770      0.441      -1.001       0.436\n",
            "country[T.SP]     -0.0109      0.310     -0.035      0.972      -0.618       0.597\n",
            "country[T.US]     -0.6095      0.542     -1.125      0.260      -1.671       0.452\n",
            "==================================================================================\n",
            "                 Generalized Linear Model Regression Results                  \n",
            "==============================================================================\n",
            "Dep. Variable:               response   No. Observations:                 2237\n",
            "Model:                            GLM   Df Residuals:                     2229\n",
            "Model Family:                Binomial   Df Model:                            7\n",
            "Link Function:                  logit   Scale:                          1.0000\n",
            "Method:                          IRLS   Log-Likelihood:                -937.28\n",
            "Date:                Fri, 24 Feb 2023   Deviance:                       1874.6\n",
            "Time:                        10:01:12   Pearson chi2:                 2.24e+03\n",
            "No. Iterations:                     5                                         \n",
            "Covariance Type:            nonrobust                                         \n",
            "==================================================================================\n",
            "                     coef    std err          z      P>|z|      [0.025      0.975]\n",
            "----------------------------------------------------------------------------------\n",
            "Intercept         -1.7845      0.225     -7.919      0.000      -2.226      -1.343\n",
            "country[T.CA]     -0.0160      0.285     -0.056      0.955      -0.575       0.543\n",
            "country[T.GER]    -0.0170      0.345     -0.049      0.961      -0.694       0.660\n",
            "country[T.IND]    -0.5484      0.368     -1.492      0.136      -1.269       0.172\n",
            "country[T.ME]      2.4776      1.245      1.990      0.047       0.037       4.918\n",
            "country[T.SA]      0.0868      0.271      0.320      0.749      -0.445       0.618\n",
            "country[T.SP]      0.1328      0.240      0.553      0.580      -0.337       0.603\n",
            "country[T.US]     -0.2149      0.372     -0.578      0.563      -0.943       0.513\n",
            "==================================================================================\n",
            "\n",
            "Chisq p-values:  [0.0, 0.0, 0.0, 0.0, 0.0, 0.0]\n"
          ]
        }
      ],
      "source": [
        "import statsmodels.formula.api as smf\n",
        "import statsmodels as sm\n",
        "from scipy import stats\n",
        "\n",
        "df_cam_wide = df[['country', \n",
        "                  'acceptedcmp1', \n",
        "                  'acceptedcmp2', \n",
        "                  'acceptedcmp3', \n",
        "                  'acceptedcmp4', \n",
        "                  'acceptedcmp5', \n",
        "                  'response']]\n",
        "\n",
        "stat_results = []\n",
        "\n",
        "# perform glm\n",
        "for col in df_cam_wide.drop(columns='country').columns:\n",
        "    this_data = df_cam_wide[['country', col]]\n",
        "    \n",
        "    formula = col+'~country'\n",
        "    \n",
        "    # logistic regression (family=binomial)\n",
        "    model = smf.glm(formula = formula, data=this_data, family=sm.genmod.families.Binomial())\n",
        "    result = model.fit()\n",
        "    \n",
        "    # get chisquare value for overall model\n",
        "    chisq = result.pearson_chi2\n",
        "    pval = stats.distributions.chi2.sf(chisq , 7)\n",
        "     \n",
        "    stat_results.append(pval)\n",
        "    \n",
        "    print(result.summary())\n",
        "    \n",
        "print(\"\\nChisq p-values: \", stat_results)"
      ]
    },
    {
      "cell_type": "code",
      "execution_count": 54,
      "id": "b3501ffc",
      "metadata": {
        "colab": {
          "base_uri": "https://localhost:8080/",
          "height": 441
        },
        "id": "b3501ffc",
        "outputId": "07746d9f-241b-459b-f04b-e91b3f21fa42"
      },
      "outputs": [
        {
          "output_type": "display_data",
          "data": {
            "text/plain": [
              "<Figure size 648x432 with 6 Axes>"
            ],
            "image/png": "[encoded data removed]"
          },
          "metadata": {
            "needs_background": "light"
          }
        }
      ],
      "source": [
        "# plot\n",
        "# merge in the original country codes provided in the dataset\n",
        "countries = df[['country', 'country_code']].drop_duplicates().reset_index(drop=True)\n",
        "df_cam2 = df_cam.merge(countries, how='left', on='country_code')\n",
        "df_cam2.head()\n",
        "\n",
        "graph = sns.FacetGrid(df_cam2, col='campaign', col_wrap=3)\n",
        "graph.map(sns.barplot, 'country', 'accepted(%)', order=None)\n",
        "for ax, pval in zip(graph.axes.flat, stat_results):\n",
        "    ax.text(0, 65, \"Chisq p-value: \"+str(pval), fontsize=9)"
      ]
    },
    {
      "cell_type": "markdown",
      "id": "69cd94de",
      "metadata": {
        "id": "69cd94de"
      },
      "source": [
        "## Data Visualization"
      ]
    },
    {
      "cell_type": "markdown",
      "id": "76b9cc80",
      "metadata": {
        "id": "76b9cc80"
      },
      "source": [
        "### Which marketing campaign is most successful?"
      ]
    },
    {
      "cell_type": "markdown",
      "id": "babecc8a",
      "metadata": {
        "id": "babecc8a"
      },
      "source": [
        "First of all, let's plot marketing campaign overall acceptance rates\n",
        "\n",
        "We see that the most successful campaign is the most recent - `response`"
      ]
    },
    {
      "cell_type": "code",
      "execution_count": 55,
      "id": "6df736ad",
      "metadata": {
        "colab": {
          "base_uri": "https://localhost:8080/",
          "height": 315
        },
        "id": "6df736ad",
        "outputId": "179991aa-57f5-48f9-bdc5-44f498975d60"
      },
      "outputs": [
        {
          "output_type": "execute_result",
          "data": {
            "text/plain": [
              "Text(0.5, 1.0, 'Marketing campaign success rate')"
            ]
          },
          "metadata": {},
          "execution_count": 55
        },
        {
          "output_type": "display_data",
          "data": {
            "text/plain": [
              "<Figure size 432x288 with 1 Axes>"
            ],
            "image/png": "[encoded data removed]"
          },
          "metadata": {
            "needs_background": "light"
          }
        }
      ],
      "source": [
        "# calculate success rate \n",
        "cam_success = pd.DataFrame(df[['acceptedcmp1', 'acceptedcmp2', 'acceptedcmp3', \n",
        "                               'acceptedcmp4', 'acceptedcmp5', 'response']].mean()*100, \n",
        "                           columns=['mean_percent']).reset_index()\n",
        "\n",
        "ax = sns.barplot(data=cam_success.sort_values('mean_percent'), x='mean_percent', y='index')\n",
        "ax.set(xlabel='Accepted(%)', ylabel='Campaign')\n",
        "show_values(ax, \"h\", space=0)\n",
        "plt.title('Marketing campaign success rate', size=16)"
      ]
    },
    {
      "cell_type": "markdown",
      "id": "2dbc3852",
      "metadata": {
        "id": "2dbc3852"
      },
      "source": [
        "### What does the average customer look like for this company?"
      ]
    },
    {
      "cell_type": "markdown",
      "id": "3db9e2ba",
      "metadata": {
        "id": "3db9e2ba"
      },
      "source": [
        "By basic demographics **the average customer ...**\n",
        "* was born in 1969\n",
        "* became a customer in 2013\n",
        "* has an income of roughly $52,200 per year\n",
        "* has 1 dependent (kid or teen)\n",
        "* made a purchase from company in the last 49 days"
      ]
    },
    {
      "cell_type": "code",
      "execution_count": 56,
      "id": "e7530707",
      "metadata": {
        "id": "e7530707"
      },
      "outputs": [],
      "source": [
        "binary_cols = [col for col in df.columns if 'accepted' in col] + ['response', 'complain']\n",
        "\n",
        "mnt_cols = [col for col in df.columns if 'mnt' in col]\n",
        "\n",
        "channel_cols = [col for col in df.columns if 'num' in col] + ['total_purchases', 'total_campaigns']\n",
        "\n",
        "cols_name = binary_cols + mnt_cols + channel_cols"
      ]
    },
    {
      "cell_type": "code",
      "execution_count": 57,
      "id": "3a45cc1d",
      "metadata": {
        "colab": {
          "base_uri": "https://localhost:8080/",
          "height": 206
        },
        "id": "3a45cc1d",
        "outputId": "74de0bfa-c41c-4670-bc16-96e56190db21"
      },
      "outputs": [
        {
          "output_type": "execute_result",
          "data": {
            "text/plain": [
              "                     average\n",
              "year_birth            1968.9\n",
              "first_year_customer   2013.0\n",
              "income               52227.4\n",
              "dependents               1.0\n",
              "recency                 49.1"
            ],
            "text/html": [
              "\n",
              "  <div id=\"df-2cc26c35-8d48-4289-9d38-fa6be4b1586f\">\n",
              "    <div class=\"colab-df-container\">\n",
              "      <div>\n",
              "<style scoped>\n",
              "    .dataframe tbody tr th:only-of-type {\n",
              "        vertical-align: middle;\n",
              "    }\n",
              "\n",
              "    .dataframe tbody tr th {\n",
              "        vertical-align: top;\n",
              "    }\n",
              "\n",
              "    .dataframe thead th {\n",
              "        text-align: right;\n",
              "    }\n",
              "</style>\n",
              "<table border=\"1\" class=\"dataframe\">\n",
              "  <thead>\n",
              "    <tr style=\"text-align: right;\">\n",
              "      <th></th>\n",
              "      <th>average</th>\n",
              "    </tr>\n",
              "  </thead>\n",
              "  <tbody>\n",
              "    <tr>\n",
              "      <th>year_birth</th>\n",
              "      <td>1968.9</td>\n",
              "    </tr>\n",
              "    <tr>\n",
              "      <th>first_year_customer</th>\n",
              "      <td>2013.0</td>\n",
              "    </tr>\n",
              "    <tr>\n",
              "      <th>income</th>\n",
              "      <td>52227.4</td>\n",
              "    </tr>\n",
              "    <tr>\n",
              "      <th>dependents</th>\n",
              "      <td>1.0</td>\n",
              "    </tr>\n",
              "    <tr>\n",
              "      <th>recency</th>\n",
              "      <td>49.1</td>\n",
              "    </tr>\n",
              "  </tbody>\n",
              "</table>\n",
              "</div>\n",
              "      <button class=\"colab-df-convert\" onclick=\"convertToInteractive('df-2cc26c35-8d48-4289-9d38-fa6be4b1586f')\"\n",
              "              title=\"Convert this dataframe to an interactive table.\"\n",
              "              style=\"display:none;\">\n",
              "        \n",
              "  <svg xmlns=\"http://www.w3.org/2000/svg\" height=\"24px\"viewBox=\"0 0 24 24\"\n",
              "       width=\"24px\">\n",
              "    <path d=\"M0 0h24v24H0V0z\" fill=\"none\"/>\n",
              "    <path d=\"M18.56 5.44l.94 2.06.94-2.06 2.06-.94-2.06-.94-.94-2.06-.94 2.06-2.06.94zm-11 1L8.5 8.5l.94-2.06 2.06-.94-2.06-.94L8.5 2.5l-.94 2.06-2.06.94zm10 10l.94 2.06.94-2.06 2.06-.94-2.06-.94-.94-2.06-.94 2.06-2.06.94z\"/><path d=\"M17.41 7.96l-1.37-1.37c-.4-.4-.92-.59-1.43-.59-.52 0-1.04.2-1.43.59L10.3 9.45l-7.72 7.72c-.78.78-.78 2.05 0 2.83L4 21.41c.39.39.9.59 1.41.59.51 0 1.02-.2 1.41-.59l7.78-7.78 2.81-2.81c.8-.78.8-2.07 0-2.86zM5.41 20L4 18.59l7.72-7.72 1.47 1.35L5.41 20z\"/>\n",
              "  </svg>\n",
              "      </button>\n",
              "      \n",
              "  <style>\n",
              "    .colab-df-container {\n",
              "      display:flex;\n",
              "      flex-wrap:wrap;\n",
              "      gap: 12px;\n",
              "    }\n",
              "\n",
              "    .colab-df-convert {\n",
              "      background-color: #E8F0FE;\n",
              "      border: none;\n",
              "      border-radius: 50%;\n",
              "      cursor: pointer;\n",
              "      display: none;\n",
              "      fill: #1967D2;\n",
              "      height: 32px;\n",
              "      padding: 0 0 0 0;\n",
              "      width: 32px;\n",
              "    }\n",
              "\n",
              "    .colab-df-convert:hover {\n",
              "      background-color: #E2EBFA;\n",
              "      box-shadow: 0px 1px 2px rgba(60, 64, 67, 0.3), 0px 1px 3px 1px rgba(60, 64, 67, 0.15);\n",
              "      fill: #174EA6;\n",
              "    }\n",
              "\n",
              "    [theme=dark] .colab-df-convert {\n",
              "      background-color: #3B4455;\n",
              "      fill: #D2E3FC;\n",
              "    }\n",
              "\n",
              "    [theme=dark] .colab-df-convert:hover {\n",
              "      background-color: #434B5C;\n",
              "      box-shadow: 0px 1px 3px 1px rgba(0, 0, 0, 0.15);\n",
              "      filter: drop-shadow(0px 1px 2px rgba(0, 0, 0, 0.3));\n",
              "      fill: #FFFFFF;\n",
              "    }\n",
              "  </style>\n",
              "\n",
              "      <script>\n",
              "        const buttonEl =\n",
              "          document.querySelector('#df-2cc26c35-8d48-4289-9d38-fa6be4b1586f button.colab-df-convert');\n",
              "        buttonEl.style.display =\n",
              "          google.colab.kernel.accessAllowed ? 'block' : 'none';\n",
              "\n",
              "        async function convertToInteractive(key) {\n",
              "          const element = document.querySelector('#df-2cc26c35-8d48-4289-9d38-fa6be4b1586f');\n",
              "          const dataTable =\n",
              "            await google.colab.kernel.invokeFunction('convertToInteractive',\n",
              "                                                     [key], {});\n",
              "          if (!dataTable) return;\n",
              "\n",
              "          const docLinkHtml = 'Like what you see? Visit the ' +\n",
              "            '<a target=\"_blank\" href=https://colab.research.google.com/notebooks/data_table.ipynb>data table notebook</a>'\n",
              "            + ' to learn more about interactive tables.';\n",
              "          element.innerHTML = '';\n",
              "          dataTable['output_type'] = 'display_data';\n",
              "          await google.colab.output.renderOutput(dataTable, element);\n",
              "          const docLink = document.createElement('div');\n",
              "          docLink.innerHTML = docLinkHtml;\n",
              "          element.appendChild(docLink);\n",
              "        }\n",
              "      </script>\n",
              "    </div>\n",
              "  </div>\n",
              "  "
            ]
          },
          "metadata": {},
          "execution_count": 57
        }
      ],
      "source": [
        "df_customer = df.drop(columns=cols_name).mean(numeric_only=True)\n",
        "\n",
        "demographics = pd.DataFrame(round(df_customer, 1), \n",
        "                            columns=['average']).reindex([\n",
        "    'year_birth', 'first_year_customer', \n",
        "    'income', 'dependents', 'recency'])\n",
        "\n",
        "demographics"
      ]
    },
    {
      "cell_type": "markdown",
      "id": "51d8646e",
      "metadata": {
        "id": "51d8646e"
      },
      "source": [
        "### Which products are performing the best?"
      ]
    },
    {
      "cell_type": "markdown",
      "id": "798f0e50",
      "metadata": {
        "id": "798f0e50"
      },
      "source": [
        "**The average customer spent...**\n",
        "* $26-27 on Fruits and Sweets products\n",
        "* $37-44 on Fish and Gold products\n",
        "* Approximately $166 on Meat products\n",
        "* Approximately $304 on Wines\n",
        "* Approximately $600 in total\n",
        "\n",
        "**Products performing best:**\n",
        "* Wines\n",
        "* Meats"
      ]
    },
    {
      "cell_type": "code",
      "execution_count": 58,
      "id": "0583b838",
      "metadata": {
        "colab": {
          "base_uri": "https://localhost:8080/",
          "height": 279
        },
        "id": "0583b838",
        "outputId": "d7e62ad3-a37d-4991-9f5a-482d46916d6c"
      },
      "outputs": [
        {
          "output_type": "display_data",
          "data": {
            "text/plain": [
              "<Figure size 432x288 with 1 Axes>"
            ],
            "image/png": "[encoded data removed]"
          },
          "metadata": {
            "needs_background": "light"
          }
        }
      ],
      "source": [
        "spending = pd.DataFrame(round(df[mnt_cols].mean(numeric_only=True), 1), columns=['average']).sort_values(by='average').reset_index()\n",
        "\n",
        "ax = sns.barplot(data=spending, x='average', y='index')\n",
        "ax.set(ylabel='Amount spent on...')\n",
        "show_values(ax, \"h\", space=0)"
      ]
    },
    {
      "cell_type": "markdown",
      "id": "52684789",
      "metadata": {
        "id": "52684789"
      },
      "source": [
        "### Which channels are underperforming?"
      ]
    },
    {
      "cell_type": "markdown",
      "id": "1af8b864",
      "metadata": {
        "id": "1af8b864"
      },
      "source": [
        "**The average customer...**\n",
        "* Accepted less than 1 advertising campaign\n",
        "* Made 2 deals purchases, 2 catalog purchases, 4 web purchases, and 5 store purchases\n",
        "* Averaged 14 total purchases\n",
        "* Visited the website 5 times\n",
        "\n",
        "**Underperforming channels:**\n",
        "* Advertising campaigns\n",
        "* Followed by deals, and catalog"
      ]
    },
    {
      "cell_type": "code",
      "execution_count": 59,
      "id": "9cb18725",
      "metadata": {
        "colab": {
          "base_uri": "https://localhost:8080/",
          "height": 279
        },
        "id": "9cb18725",
        "outputId": "474cd5ec-293d-44e5-ef3f-ea8f51d90ac8"
      },
      "outputs": [
        {
          "output_type": "display_data",
          "data": {
            "text/plain": [
              "<Figure size 432x288 with 1 Axes>"
            ],
            "image/png": "[encoded data removed]"
          },
          "metadata": {
            "needs_background": "light"
          }
        }
      ],
      "source": [
        "channels = pd.DataFrame(round(df[channel_cols].mean(numeric_only=True), 1), columns=['average']).sort_values(by='average').reset_index()\n",
        "\n",
        "ax = sns.barplot(data=channels, x='average', y='index')\n",
        "ax.set(ylabel='Number of...')\n",
        "show_values(ax, \"h\", space=0)"
      ]
    },
    {
      "cell_type": "markdown",
      "id": "5c37177c",
      "metadata": {
        "id": "5c37177c"
      },
      "source": [
        "## Conclusion"
      ]
    },
    {
      "cell_type": "markdown",
      "id": "039468ab",
      "metadata": {
        "id": "039468ab"
      },
      "source": [
        "**Overall findings and ways to improve advertising campaign effectiveness:**\n",
        "\n",
        "1.   The most successful advertising campaign was the most recent campaign, and especially in Mexico (**>60%** acceptance rate)\n",
        "> **Suggested action:** future advertising campaigns may be conducted using the latest model recently implemented in Mexico\n",
        "\n",
        "2.   Advertising campaign acceptance is positively correlated with income and negatively correlated with having decedents (kids/teen)\n",
        "> **Suggested action:** to make two target advertising campaigns: one aimed at high-income individuals without decedents and second aimed at lower-income individuals with kids/teens\n",
        "\n",
        "3. The average customer spent the most on wines and meats\n",
        "> **Suggested action:** to direct next advertising campaigns for raise sales of the less popular items\n",
        "\n",
        "4. The inefficient channels are deals and catalog purchases, the best performing channels are web and store purchases\n",
        "> **Suggested action:** to focus advertising campaigns on successful channels, and to find another ways of advertising in inefficient channels"
      ]
    },
    {
      "cell_type": "code",
      "source": [],
      "metadata": {
        "id": "FB2NrcHq-w2o"
      },
      "id": "FB2NrcHq-w2o",
      "execution_count": null,
      "outputs": []
    }
  ],
  "metadata": {
    "kernelspec": {
      "display_name": "Python 3 (ipykernel)",
      "language": "python",
      "name": "python3"
    },
    "language_info": {
      "codemirror_mode": {
        "name": "ipython",
        "version": 3
      },
      "file_extension": ".py",
      "mimetype": "text/x-python",
      "name": "python",
      "nbconvert_exporter": "python",
      "pygments_lexer": "ipython3",
      "version": "3.9.7"
    },
    "colab": {
      "provenance": []
    }
  },
  "nbformat": 4,
  "nbformat_minor": 5
}